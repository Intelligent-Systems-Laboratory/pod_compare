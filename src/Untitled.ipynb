{
 "cells": [
  {
   "cell_type": "code",
   "execution_count": 1,
   "id": "hired-sterling",
   "metadata": {},
   "outputs": [],
   "source": [
    "import csv"
   ]
  },
  {
   "cell_type": "code",
   "execution_count": 26,
   "id": "earlier-guatemala",
   "metadata": {},
   "outputs": [],
   "source": [
    "results_list = []"
   ]
  },
  {
   "cell_type": "code",
   "execution_count": 40,
   "id": "medium-charter",
   "metadata": {},
   "outputs": [],
   "source": [
    "path = '/home/richard.tanai/cvpr2/pod_compare/src/outputs/ex1_ent_10/eval_results/checkpoint_step100_results.txt'"
   ]
  },
  {
   "cell_type": "code",
   "execution_count": 3,
   "id": "consolidated-mortgage",
   "metadata": {},
   "outputs": [],
   "source": [
    "with open(path, 'r') as res_file:\n",
    "    data = res_file.readlines()"
   ]
  },
  {
   "cell_type": "code",
   "execution_count": 41,
   "id": "placed-block",
   "metadata": {},
   "outputs": [],
   "source": [
    "step = path.strip('_results.txt').split('_step')[-1]"
   ]
  },
  {
   "cell_type": "code",
   "execution_count": 42,
   "id": "illegal-fountain",
   "metadata": {},
   "outputs": [
    {
     "data": {
      "text/plain": [
       "'100'"
      ]
     },
     "execution_count": 42,
     "metadata": {},
     "output_type": "execute_result"
    }
   ],
   "source": [
    "step"
   ]
  },
  {
   "cell_type": "code",
   "execution_count": 13,
   "id": "jewish-reality",
   "metadata": {},
   "outputs": [],
   "source": [
    "common = data[0].strip().strip('[').strip(']').split(', ')"
   ]
  },
  {
   "cell_type": "code",
   "execution_count": 28,
   "id": "collectible-sleep",
   "metadata": {},
   "outputs": [],
   "source": [
    "e1 = common[0]"
   ]
  },
  {
   "cell_type": "code",
   "execution_count": 29,
   "id": "commercial-accordance",
   "metadata": {},
   "outputs": [],
   "source": [
    "e2 = common[8]"
   ]
  },
  {
   "cell_type": "code",
   "execution_count": 30,
   "id": "conventional-machinery",
   "metadata": {},
   "outputs": [],
   "source": [
    "e3 = common[-1]"
   ]
  },
  {
   "cell_type": "code",
   "execution_count": 31,
   "id": "motivated-daisy",
   "metadata": {},
   "outputs": [],
   "source": [
    "e4 = data[2].strip().split(': ')[1]\n",
    "e5 = data[3].strip().split(': ')[1]\n",
    "e6 = data[4].strip().split(': ')[1]\n",
    "e7 = data[5].strip().split(': ')[1]\n",
    "e8 = data[6].strip().split(': ')[1]\n",
    "e9 = data[7].strip().split(': ')[1]\n",
    "e10 = data[8].strip().split(': ')[1]\n",
    "\n",
    "e11 = data[11].strip().split(': ')[1]\n",
    "e12 = data[12].strip().split(': ')[1]\n",
    "e13 = data[13].strip().split(': ')[1]\n",
    "e14 = data[14].strip().split(': ')[1]\n",
    "e15 = data[15].strip().split(': ')[1]"
   ]
  },
  {
   "cell_type": "code",
   "execution_count": 32,
   "id": "respected-messenger",
   "metadata": {},
   "outputs": [],
   "source": [
    "results_list.append([step,e1,e2,e3,e4,e5,e6,e7,e8,e9,e10,e11,e12,e13,e14,e15])"
   ]
  },
  {
   "cell_type": "code",
   "execution_count": 34,
   "id": "western-mexico",
   "metadata": {},
   "outputs": [],
   "source": [
    "results_list.append([e1,e2,e3,e4,e5,e6,e7,e8,e9,e10,e11,e12,e13,e14,e15])"
   ]
  },
  {
   "cell_type": "code",
   "execution_count": 35,
   "id": "breathing-progress",
   "metadata": {},
   "outputs": [],
   "source": [
    "with open('test.csv', 'w', newline='') as file:\n",
    "    writer = csv.writer(file)\n",
    "    writer.writerows(results_list)"
   ]
  },
  {
   "cell_type": "code",
   "execution_count": null,
   "id": "nearby-bryan",
   "metadata": {},
   "outputs": [],
   "source": []
  }
 ],
 "metadata": {
  "kernelspec": {
   "display_name": "Python 3",
   "language": "python",
   "name": "python3"
  },
  "language_info": {
   "codemirror_mode": {
    "name": "ipython",
    "version": 3
   },
   "file_extension": ".py",
   "mimetype": "text/x-python",
   "name": "python",
   "nbconvert_exporter": "python",
   "pygments_lexer": "ipython3",
   "version": "3.8.5"
  }
 },
 "nbformat": 4,
 "nbformat_minor": 5
}

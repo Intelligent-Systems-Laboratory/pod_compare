{
 "cells": [
  {
   "cell_type": "markdown",
   "id": "unlimited-rolling",
   "metadata": {},
   "source": [
    "## Start"
   ]
  },
  {
   "cell_type": "code",
   "execution_count": 1,
   "id": "trying-timing",
   "metadata": {},
   "outputs": [
    {
     "name": "stderr",
     "output_type": "stream",
     "text": [
      "** fvcore version of PathManager will be deprecated soon. **\n",
      "** Please migrate to the version in iopath repo. **\n",
      "https://github.com/facebookresearch/iopath \n",
      "\n",
      "** fvcore version of PathManager will be deprecated soon. **\n",
      "** Please migrate to the version in iopath repo. **\n",
      "https://github.com/facebookresearch/iopath \n",
      "\n"
     ]
    }
   ],
   "source": [
    "import json\n",
    "import os\n",
    "import torch\n",
    "import tqdm\n",
    "from shutil import copyfile\n",
    "\n",
    "# Detectron imports\n",
    "from detectron2.engine import launch\n",
    "from detectron2.checkpoint import DetectionCheckpointer\n",
    "from detectron2.modeling import build_model\n",
    "from detectron2.data import build_detection_test_loader, MetadataCatalog\n",
    "\n",
    "# Project imports\n",
    "import core.datasets.metadata as metadata\n",
    "\n",
    "from core.setup import setup_config, setup_arg_parser\n",
    "from offline_evaluation import compute_average_precision, compute_probabilistic_metrics, compute_calibration_errors\n",
    "from probabilistic_inference.probabilistic_inference import build_predictor\n",
    "from probabilistic_inference.inference_utils import instances_to_json\n",
    "\n",
    "from train_utils import ActiveTrainer\n",
    "\n",
    "device = torch.device(\"cuda\" if torch.cuda.is_available() else \"cpu\")\n"
   ]
  },
  {
   "cell_type": "code",
   "execution_count": 2,
   "id": "willing-phone",
   "metadata": {},
   "outputs": [
    {
     "name": "stdout",
     "output_type": "stream",
     "text": [
      "Command Line Args: Namespace(config_file='/home/richard.tanai/cvpr2/pod_compare/src/configs/BDD-Detection/retinanet/retinanet_R_50_FPN_1x_reg_cls_var_dropout.yaml', dataset_dir='/public-dataset/BDD/bdd100k', dist_url='tcp://127.0.0.1:50162', eval_only=False, inference_config='/home/richard.tanai/cvpr2/pod_compare/src/configs/Inference/bayes_od_mc_dropout.yaml', iou_correct=0.7, iou_min=0.1, machine_rank=0, min_allowed_score=0.0, num_gpus=1, num_machines=1, opts=[], random_seed=1000, resume=True, test_dataset='bdd_val')\n"
     ]
    }
   ],
   "source": [
    "##setup inference args, this also contains all the training args\n",
    "arg_parser = setup_arg_parser()\n",
    "args = arg_parser.parse_args(\"\")\n",
    "# Support single gpu inference only.\n",
    "args.num_gpus = 1\n",
    "args.dataset_dir = '/public-dataset/BDD/bdd100k'\n",
    "args.test_dataset = 'bdd_val'\n",
    "args.config_file = '/home/richard.tanai/cvpr2/pod_compare/src/configs/BDD-Detection/retinanet/retinanet_R_50_FPN_1x_reg_cls_var_dropout.yaml'\n",
    "args.inference_config = '/home/richard.tanai/cvpr2/pod_compare/src/configs/Inference/bayes_od_mc_dropout.yaml'\n",
    "args.random_seed = 1000\n",
    "args.resume=True\n",
    "print(\"Command Line Args:\", args)"
   ]
  },
  {
   "cell_type": "code",
   "execution_count": 3,
   "id": "authentic-savannah",
   "metadata": {},
   "outputs": [
    {
     "name": "stderr",
     "output_type": "stream",
     "text": [
      "Loading config /home/richard.tanai/cvpr2/pod_compare/src/configs/BDD-Detection/retinanet/../../Base-RetinaNet.yaml with yaml.unsafe_load. Your machine may be at risk if the file contains malicious content.\n",
      "Config '/home/richard.tanai/cvpr2/pod_compare/src/configs/Inference/bayes_od_mc_dropout.yaml' has no VERSION. Assuming it to be compatible with latest v2.\n"
     ]
    },
    {
     "name": "stdout",
     "output_type": "stream",
     "text": [
      "\u001b[32m[02/05 17:30:10 detectron2]: \u001b[0mRank of current process: 0. World size: 1\n",
      "\u001b[32m[02/05 17:30:10 detectron2]: \u001b[0mEnvironment info:\n",
      "----------------------  ----------------------------------------------------------------------\n",
      "sys.platform            linux\n",
      "Python                  3.8.5 (default, Sep  4 2020, 07:30:14) [GCC 7.3.0]\n",
      "numpy                   1.19.5\n",
      "detectron2              0.3 @/opt/anaconda3/envs/pod/lib/python3.8/site-packages/detectron2\n",
      "Compiler                GCC 7.3\n",
      "CUDA compiler           CUDA 10.2\n",
      "detectron2 arch flags   3.7, 5.0, 5.2, 6.0, 6.1, 7.0, 7.5\n",
      "DETECTRON2_ENV_MODULE   <not set>\n",
      "PyTorch                 1.7.1 @/opt/anaconda3/envs/pod/lib/python3.8/site-packages/torch\n",
      "PyTorch debug build     False\n",
      "GPU available           True\n",
      "GPU 0                   Tesla V100-SXM2-32GB (arch=7.0)\n",
      "CUDA_HOME               /usr/local/cuda\n",
      "Pillow                  8.1.0\n",
      "torchvision             0.8.2 @/opt/anaconda3/envs/pod/lib/python3.8/site-packages/torchvision\n",
      "torchvision arch flags  3.5, 5.0, 6.0, 7.0, 7.5\n",
      "fvcore                  0.1.2.post20210115\n",
      "cv2                     4.5.1\n",
      "----------------------  ----------------------------------------------------------------------\n",
      "PyTorch built with:\n",
      "  - GCC 7.3\n",
      "  - C++ Version: 201402\n",
      "  - Intel(R) Math Kernel Library Version 2020.0.0 Product Build 20191122 for Intel(R) 64 architecture applications\n",
      "  - Intel(R) MKL-DNN v1.6.0 (Git Hash 5ef631a030a6f73131c77892041042805a06064f)\n",
      "  - OpenMP 201511 (a.k.a. OpenMP 4.5)\n",
      "  - NNPACK is enabled\n",
      "  - CPU capability usage: AVX2\n",
      "  - CUDA Runtime 10.2\n",
      "  - NVCC architecture flags: -gencode;arch=compute_37,code=sm_37;-gencode;arch=compute_50,code=sm_50;-gencode;arch=compute_60,code=sm_60;-gencode;arch=compute_70,code=sm_70;-gencode;arch=compute_75,code=sm_75\n",
      "  - CuDNN 7.6.5\n",
      "  - Magma 2.5.2\n",
      "  - Build settings: BLAS=MKL, BUILD_TYPE=Release, CXX_FLAGS= -Wno-deprecated -fvisibility-inlines-hidden -DUSE_PTHREADPOOL -fopenmp -DNDEBUG -DUSE_FBGEMM -DUSE_QNNPACK -DUSE_PYTORCH_QNNPACK -DUSE_XNNPACK -DUSE_VULKAN_WRAPPER -O2 -fPIC -Wno-narrowing -Wall -Wextra -Werror=return-type -Wno-missing-field-initializers -Wno-type-limits -Wno-array-bounds -Wno-unknown-pragmas -Wno-sign-compare -Wno-unused-parameter -Wno-unused-variable -Wno-unused-function -Wno-unused-result -Wno-unused-local-typedefs -Wno-strict-overflow -Wno-strict-aliasing -Wno-error=deprecated-declarations -Wno-stringop-overflow -Wno-psabi -Wno-error=pedantic -Wno-error=redundant-decls -Wno-error=old-style-cast -fdiagnostics-color=always -faligned-new -Wno-unused-but-set-variable -Wno-maybe-uninitialized -fno-math-errno -fno-trapping-math -Werror=format -Wno-stringop-overflow, PERF_WITH_AVX=1, PERF_WITH_AVX2=1, PERF_WITH_AVX512=1, USE_CUDA=ON, USE_EXCEPTION_PTR=1, USE_GFLAGS=OFF, USE_GLOG=OFF, USE_MKL=ON, USE_MKLDNN=ON, USE_MPI=OFF, USE_NCCL=ON, USE_NNPACK=ON, USE_OPENMP=ON, \n",
      "\n",
      "\u001b[32m[02/05 17:30:10 detectron2]: \u001b[0mCommand line arguments: Namespace(config_file='/home/richard.tanai/cvpr2/pod_compare/src/configs/BDD-Detection/retinanet/retinanet_R_50_FPN_1x_reg_cls_var_dropout.yaml', dataset_dir='/public-dataset/BDD/bdd100k', dist_url='tcp://127.0.0.1:50162', eval_only=False, inference_config='/home/richard.tanai/cvpr2/pod_compare/src/configs/Inference/bayes_od_mc_dropout.yaml', iou_correct=0.7, iou_min=0.1, machine_rank=0, min_allowed_score=0.0, num_gpus=1, num_machines=1, opts=[], random_seed=1000, resume=True, test_dataset='bdd_val')\n",
      "\u001b[32m[02/05 17:30:10 detectron2]: \u001b[0mContents of args.config_file=/home/richard.tanai/cvpr2/pod_compare/src/configs/BDD-Detection/retinanet/retinanet_R_50_FPN_1x_reg_cls_var_dropout.yaml:\n",
      "_BASE_: \"Base-BDD-RetinaNet.yaml\"\n",
      "\n",
      "MODEL:\n",
      "    PROBABILISTIC_MODELING:\n",
      "        DROPOUT_RATE: 0.2 # 0.0 for no dropout\n",
      "\n",
      "        # One of the following Loss types: loss_attenuation'.\n",
      "        CLS_VAR_LOSS:\n",
      "            NAME: 'loss_attenuation'\n",
      "            NUM_SAMPLES: 10\n",
      "\n",
      "        # One of the following Loss types: 'none' or 'negative_log_likelihood', 'second_moment_matching', 'energy_loss'.\n",
      "        BBOX_COV_LOSS:\n",
      "            NAME: 'negative_log_likelihood'\n",
      "            COVARIANCE_TYPE: 'diagonal' # One of the following: 'full', 'diagonal' # Settings for dropout\n",
      "\u001b[32m[02/05 17:30:10 detectron2]: \u001b[0mRunning with full config:\n",
      "ACTIVE_LEARNING:\n",
      "  EPOCH: 2\n",
      "  START_N: 10000\n",
      "  STEP_N: 10000\n",
      "CUDNN_BENCHMARK: False\n",
      "DATALOADER:\n",
      "  ASPECT_RATIO_GROUPING: True\n",
      "  FILTER_EMPTY_ANNOTATIONS: True\n",
      "  NUM_WORKERS: 8\n",
      "  REPEAT_THRESHOLD: 0.0\n",
      "  SAMPLER_TRAIN: TrainingSampler\n",
      "DATASETS:\n",
      "  PRECOMPUTED_PROPOSAL_TOPK_TEST: 1000\n",
      "  PRECOMPUTED_PROPOSAL_TOPK_TRAIN: 2000\n",
      "  PROPOSAL_FILES_TEST: ()\n",
      "  PROPOSAL_FILES_TRAIN: ()\n",
      "  TEST: ('bdd_val',)\n",
      "  TRAIN: ('bdd_train',)\n",
      "GLOBAL:\n",
      "  HACK: 1.0\n",
      "INPUT:\n",
      "  CROP:\n",
      "    ENABLED: False\n",
      "    SIZE: [0.9, 0.9]\n",
      "    TYPE: relative_range\n",
      "  FORMAT: BGR\n",
      "  MASK_FORMAT: polygon\n",
      "  MAX_SIZE_TEST: 1333\n",
      "  MAX_SIZE_TRAIN: 1333\n",
      "  MIN_SIZE_TEST: 800\n",
      "  MIN_SIZE_TRAIN: (720,)\n",
      "  MIN_SIZE_TRAIN_SAMPLING: choice\n",
      "  RANDOM_FLIP: horizontal\n",
      "MODEL:\n",
      "  ANCHOR_GENERATOR:\n",
      "    ANGLES: [[-90, 0, 90]]\n",
      "    ASPECT_RATIOS: [[0.5, 1.0, 2.0]]\n",
      "    NAME: DefaultAnchorGenerator\n",
      "    OFFSET: 0.0\n",
      "    SIZES: [[32, 40.31747359663594, 50.79683366298238], [64, 80.63494719327188, 101.59366732596476], [128, 161.26989438654377, 203.18733465192952], [256, 322.53978877308754, 406.37466930385904], [512, 645.0795775461751, 812.7493386077181]]\n",
      "  BACKBONE:\n",
      "    FREEZE_AT: 2\n",
      "    NAME: build_retinanet_resnet_fpn_backbone\n",
      "  DEVICE: cuda\n",
      "  FPN:\n",
      "    FUSE_TYPE: sum\n",
      "    IN_FEATURES: ['res3', 'res4', 'res5']\n",
      "    NORM: \n",
      "    OUT_CHANNELS: 256\n",
      "  KEYPOINT_ON: False\n",
      "  LOAD_PROPOSALS: False\n",
      "  MASK_ON: False\n",
      "  META_ARCHITECTURE: ProbabilisticRetinaNet\n",
      "  PANOPTIC_FPN:\n",
      "    COMBINE:\n",
      "      ENABLED: True\n",
      "      INSTANCES_CONFIDENCE_THRESH: 0.5\n",
      "      OVERLAP_THRESH: 0.5\n",
      "      STUFF_AREA_LIMIT: 4096\n",
      "    INSTANCE_LOSS_WEIGHT: 1.0\n",
      "  PIXEL_MEAN: [103.53, 116.28, 123.675]\n",
      "  PIXEL_STD: [1.0, 1.0, 1.0]\n",
      "  PROBABILISTIC_MODELING:\n",
      "    ANNEALING_STEP: 0\n",
      "    BBOX_COV_LOSS:\n",
      "      COVARIANCE_TYPE: diagonal\n",
      "      NAME: negative_log_likelihood\n",
      "      NUM_SAMPLES: 1000\n",
      "    CLS_VAR_LOSS:\n",
      "      NAME: loss_attenuation\n",
      "      NUM_SAMPLES: 10\n",
      "    DROPOUT_RATE: 0.2\n",
      "    MC_DROPOUT:\n",
      "      \n",
      "  PROPOSAL_GENERATOR:\n",
      "    MIN_SIZE: 0\n",
      "    NAME: RPN\n",
      "  RESNETS:\n",
      "    DEFORM_MODULATED: False\n",
      "    DEFORM_NUM_GROUPS: 1\n",
      "    DEFORM_ON_PER_STAGE: [False, False, False, False]\n",
      "    DEPTH: 50\n",
      "    NORM: FrozenBN\n",
      "    NUM_GROUPS: 1\n",
      "    OUT_FEATURES: ['res3', 'res4', 'res5']\n",
      "    RES2_OUT_CHANNELS: 256\n",
      "    RES5_DILATION: 1\n",
      "    STEM_OUT_CHANNELS: 64\n",
      "    STRIDE_IN_1X1: True\n",
      "    WIDTH_PER_GROUP: 64\n",
      "  RETINANET:\n",
      "    BBOX_REG_LOSS_TYPE: smooth_l1\n",
      "    BBOX_REG_WEIGHTS: (1.0, 1.0, 1.0, 1.0)\n",
      "    FOCAL_LOSS_ALPHA: 0.25\n",
      "    FOCAL_LOSS_GAMMA: 2.0\n",
      "    IN_FEATURES: ['p3', 'p4', 'p5', 'p6', 'p7']\n",
      "    IOU_LABELS: [0, -1, 1]\n",
      "    IOU_THRESHOLDS: [0.4, 0.5]\n",
      "    NMS_THRESH_TEST: 0.5\n",
      "    NORM: \n",
      "    NUM_CLASSES: 7\n",
      "    NUM_CONVS: 4\n",
      "    PRIOR_PROB: 0.01\n",
      "    SCORE_THRESH_TEST: 0.05\n",
      "    SMOOTH_L1_LOSS_BETA: 0.0\n",
      "    TOPK_CANDIDATES_TEST: 1000\n",
      "  ROI_BOX_CASCADE_HEAD:\n",
      "    BBOX_REG_WEIGHTS: ((10.0, 10.0, 5.0, 5.0), (20.0, 20.0, 10.0, 10.0), (30.0, 30.0, 15.0, 15.0))\n",
      "    IOUS: (0.5, 0.6, 0.7)\n",
      "  ROI_BOX_HEAD:\n",
      "    BBOX_REG_LOSS_TYPE: smooth_l1\n",
      "    BBOX_REG_LOSS_WEIGHT: 1.0\n",
      "    BBOX_REG_WEIGHTS: (10.0, 10.0, 5.0, 5.0)\n",
      "    CLS_AGNOSTIC_BBOX_REG: False\n",
      "    CONV_DIM: 256\n",
      "    DROPOUT_RATE: 0.2\n",
      "    FC_DIM: 1024\n",
      "    NAME: \n",
      "    NORM: \n",
      "    NUM_CONV: 0\n",
      "    NUM_FC: 0\n",
      "    POOLER_RESOLUTION: 14\n",
      "    POOLER_SAMPLING_RATIO: 0\n",
      "    POOLER_TYPE: ROIAlignV2\n",
      "    SMOOTH_L1_BETA: 0.0\n",
      "    TRAIN_ON_PRED_BOXES: False\n",
      "  ROI_HEADS:\n",
      "    BATCH_SIZE_PER_IMAGE: 512\n",
      "    IN_FEATURES: ['res4']\n",
      "    IOU_LABELS: [0, 1]\n",
      "    IOU_THRESHOLDS: [0.5]\n",
      "    NAME: Res5ROIHeads\n",
      "    NMS_THRESH_TEST: 0.5\n",
      "    NUM_CLASSES: 80\n",
      "    POSITIVE_FRACTION: 0.25\n",
      "    PROPOSAL_APPEND_GT: True\n",
      "    SCORE_THRESH_TEST: 0.05\n",
      "  ROI_KEYPOINT_HEAD:\n",
      "    CONV_DIMS: (512, 512, 512, 512, 512, 512, 512, 512)\n",
      "    LOSS_WEIGHT: 1.0\n",
      "    MIN_KEYPOINTS_PER_IMAGE: 1\n",
      "    NAME: KRCNNConvDeconvUpsampleHead\n",
      "    NORMALIZE_LOSS_BY_VISIBLE_KEYPOINTS: True\n",
      "    NUM_KEYPOINTS: 17\n",
      "    POOLER_RESOLUTION: 14\n",
      "    POOLER_SAMPLING_RATIO: 0\n",
      "    POOLER_TYPE: ROIAlignV2\n",
      "  ROI_MASK_HEAD:\n",
      "    CLS_AGNOSTIC_MASK: False\n",
      "    CONV_DIM: 256\n",
      "    NAME: MaskRCNNConvUpsampleHead\n",
      "    NORM: \n",
      "    NUM_CONV: 0\n",
      "    POOLER_RESOLUTION: 14\n",
      "    POOLER_SAMPLING_RATIO: 0\n",
      "    POOLER_TYPE: ROIAlignV2\n",
      "  RPN:\n",
      "    BATCH_SIZE_PER_IMAGE: 256\n",
      "    BBOX_REG_LOSS_TYPE: smooth_l1\n",
      "    BBOX_REG_LOSS_WEIGHT: 1.0\n",
      "    BBOX_REG_WEIGHTS: (1.0, 1.0, 1.0, 1.0)\n",
      "    BOUNDARY_THRESH: -1\n",
      "    HEAD_NAME: StandardRPNHead\n",
      "    IN_FEATURES: ['res4']\n",
      "    IOU_LABELS: [0, -1, 1]\n",
      "    IOU_THRESHOLDS: [0.3, 0.7]\n",
      "    LOSS_WEIGHT: 1.0\n",
      "    NMS_THRESH: 0.7\n",
      "    POSITIVE_FRACTION: 0.5\n",
      "    POST_NMS_TOPK_TEST: 1000\n",
      "    POST_NMS_TOPK_TRAIN: 2000\n",
      "    PRE_NMS_TOPK_TEST: 6000\n",
      "    PRE_NMS_TOPK_TRAIN: 12000\n",
      "    SMOOTH_L1_BETA: 0.0\n",
      "  SEM_SEG_HEAD:\n",
      "    COMMON_STRIDE: 4\n",
      "    CONVS_DIM: 128\n",
      "    IGNORE_VALUE: 255\n",
      "    IN_FEATURES: ['p2', 'p3', 'p4', 'p5']\n",
      "    LOSS_WEIGHT: 1.0\n",
      "    NAME: SemSegFPNHead\n",
      "    NORM: GN\n",
      "    NUM_CLASSES: 54\n",
      "  WEIGHTS: detectron2://ImageNetPretrained/MSRA/R-50.pkl\n",
      "OUTPUT_DIR: /home/richard.tanai/cvpr2/pod_compare/data/BDD-Detection/retinanet/retinanet_R_50_FPN_1x_reg_cls_var_dropout/random_seed_1000\n",
      "PROBABILISTIC_INFERENCE:\n",
      "  AFFINITY_THRESHOLD: 0.9\n",
      "  BAYES_OD:\n",
      "    BOX_MERGE_MODE: bayesian_inference\n",
      "    CLS_MERGE_MODE: max_score\n",
      "    DIRCH_PRIOR: uniform\n",
      "  ENSEMBLES:\n",
      "    BOX_MERGE_MODE: pre_nms\n",
      "    RANDOM_SEED_NUMS: [0, 1000, 2000, 3000, 4000]\n",
      "  ENSEMBLES_DROPOUT:\n",
      "    BOX_MERGE_MODE: pre_nms\n",
      "  INFERENCE_MODE: bayes_od\n",
      "  MC_DROPOUT:\n",
      "    ENABLE: True\n",
      "    NUM_RUNS: 10\n",
      "SEED: 1000\n",
      "SOLVER:\n",
      "  AMP:\n",
      "    ENABLED: False\n",
      "  BASE_LR: 0.0025\n",
      "  BIAS_LR_FACTOR: 1.0\n",
      "  CHECKPOINT_PERIOD: 30000\n",
      "  CLIP_GRADIENTS:\n",
      "    CLIP_TYPE: value\n",
      "    CLIP_VALUE: 1.0\n",
      "    ENABLED: False\n",
      "    NORM_TYPE: 2.0\n",
      "  GAMMA: 0.1\n",
      "  IMS_PER_BATCH: 4\n",
      "  LR_SCHEDULER_NAME: WarmupMultiStepLR\n",
      "  MAX_ITER: 90000\n",
      "  MOMENTUM: 0.9\n",
      "  NESTEROV: False\n",
      "  REFERENCE_WORLD_SIZE: 0\n",
      "  STEPS: (60000, 80000)\n",
      "  WARMUP_FACTOR: 0.001\n",
      "  WARMUP_ITERS: 1000\n",
      "  WARMUP_METHOD: linear\n",
      "  WEIGHT_DECAY: 0.0001\n",
      "  WEIGHT_DECAY_BIAS: 0.0001\n",
      "  WEIGHT_DECAY_NORM: 0.0\n",
      "TEST:\n",
      "  AUG:\n",
      "    ENABLED: False\n",
      "    FLIP: True\n",
      "    MAX_SIZE: 4000\n",
      "    MIN_SIZES: (400, 500, 600, 700, 800, 900, 1000, 1100, 1200)\n",
      "  DETECTIONS_PER_IMAGE: 100\n",
      "  EVAL_PERIOD: 0\n",
      "  EXPECTED_RESULTS: []\n",
      "  KEYPOINT_OKS_SIGMAS: []\n",
      "  PRECISE_BN:\n",
      "    ENABLED: False\n",
      "    NUM_ITER: 200\n",
      "VERSION: 2\n",
      "VIS_PERIOD: 0\n"
     ]
    },
    {
     "name": "stdout",
     "output_type": "stream",
     "text": [
      "\u001b[32m[02/05 17:30:11 detectron2]: \u001b[0mFull config saved to /home/richard.tanai/cvpr2/pod_compare/data/BDD-Detection/retinanet/retinanet_R_50_FPN_1x_reg_cls_var_dropout/random_seed_1000/config.yaml\n"
     ]
    }
   ],
   "source": [
    "# run this once per session only\n",
    "cfg = setup_config(args, random_seed=args.random_seed, is_testing=False)"
   ]
  },
  {
   "cell_type": "code",
   "execution_count": 8,
   "id": "cutting-florence",
   "metadata": {},
   "outputs": [
    {
     "name": "stdout",
     "output_type": "stream",
     "text": [
      "\u001b[32m[02/05 17:32:53 fvcore.common.checkpoint]: \u001b[0mLoading checkpoint from /home/richard.tanai/cvpr2/pod_compare/data_backup/BDD-Detection/retinanet/retinanet_R_50_FPN_1x_reg_cls_var_dropout/random_seed_0/model_final.pth\n",
      "\u001b[32m[02/05 17:32:59 d2.data.datasets.coco]: \u001b[0mLoading /public-dataset/BDD/bdd100k/labels/train_coco_format.json takes 5.27 seconds.\n",
      "\u001b[32m[02/05 17:32:59 d2.data.datasets.coco]: \u001b[0mLoaded 69863 images in COCO format from /public-dataset/BDD/bdd100k/labels/train_coco_format.json\n",
      "\u001b[32m[02/05 17:33:02 d2.data.build]: \u001b[0mRemoved 458 images with no usable annotations. 69405 images left.\n",
      "\u001b[32m[02/05 17:33:06 d2.data.dataset_mapper]: \u001b[0m[DatasetMapper] Augmentations used in training: [ResizeShortestEdge(short_edge_length=(720,), max_size=1333, sample_style='choice'), RandomFlip()]\n"
     ]
    }
   ],
   "source": [
    "#cfg = setup_config(args, random_seed=args.random_seed, is_testing=True)\n",
    "\n",
    "# Make sure only 1 data point is processed at a time. This simulates\n",
    "# deployment.\n",
    "cfg.defrost()\n",
    "cfg.DATALOADER.NUM_WORKERS = 32\n",
    "cfg.SOLVER.IMS_PER_BATCH = 1\n",
    "\n",
    "cfg.MODEL.DEVICE = device.type\n",
    "\n",
    "# Set up number of cpu threads\n",
    "torch.set_num_threads(cfg.DATALOADER.NUM_WORKERS)\n",
    "\n",
    "# Create inference output directory and copy inference config file to keep\n",
    "# track of experimental settings\n",
    "inference_output_dir = os.path.join(\n",
    "    cfg['OUTPUT_DIR'],\n",
    "    'inference',\n",
    "    args.test_dataset,\n",
    "    os.path.split(args.inference_config)[-1][:-5])\n",
    "os.makedirs(inference_output_dir, exist_ok=True)\n",
    "copyfile(args.inference_config, os.path.join(\n",
    "    inference_output_dir, os.path.split(args.inference_config)[-1]))\n",
    "\n",
    "# Get category mapping dictionary:\n",
    "train_thing_dataset_id_to_contiguous_id = MetadataCatalog.get(\n",
    "    cfg.DATASETS.TRAIN[0]).thing_dataset_id_to_contiguous_id\n",
    "test_thing_dataset_id_to_contiguous_id = MetadataCatalog.get(\n",
    "    args.test_dataset).thing_dataset_id_to_contiguous_id\n",
    "\n",
    "# If both dicts are equal or if we are performing out of distribution\n",
    "# detection, just flip the test dict.\n",
    "if (train_thing_dataset_id_to_contiguous_id == test_thing_dataset_id_to_contiguous_id) or (\n",
    "        cfg.DATASETS.TRAIN[0] == 'coco_not_in_voc_2017_train'):\n",
    "    cat_mapping_dict = dict(\n",
    "        (v, k) for k, v in test_thing_dataset_id_to_contiguous_id.items())\n",
    "else:\n",
    "    # If not equal, two situations: 1) BDD to KITTI and 2) COCO to PASCAL\n",
    "    cat_mapping_dict = dict(\n",
    "        (v, k) for k, v in test_thing_dataset_id_to_contiguous_id.items())\n",
    "    if 'voc' in args.test_dataset and 'coco' in cfg.DATASETS.TRAIN[0]:\n",
    "        dataset_mapping_dict = dict(\n",
    "            (v, k) for k, v in metadata.COCO_TO_VOC_CONTIGUOUS_ID.items())\n",
    "    elif 'kitti' in args.test_dataset and 'bdd' in cfg.DATASETS.TRAIN[0]:\n",
    "        dataset_mapping_dict = dict(\n",
    "            (v, k) for k, v in metadata.BDD_TO_KITTI_CONTIGUOUS_ID.items())\n",
    "    else:\n",
    "        ValueError(\n",
    "            'Cannot generate category mapping dictionary. Please check if training and inference datasets are compatible.')\n",
    "    cat_mapping_dict = dict(\n",
    "        (dataset_mapping_dict[k], v) for k, v in cat_mapping_dict.items())\n",
    "\n",
    "# Build predictor\n",
    "model = build_model(cfg)\n",
    "\n",
    "DetectionCheckpointer(model, save_dir=cfg.OUTPUT_DIR).resume_or_load(\n",
    "            \"/home/richard.tanai/cvpr2/pod_compare/data_backup/BDD-Detection/retinanet/retinanet_R_50_FPN_1x_reg_cls_var_dropout/random_seed_0/model_final.pth\", resume=False)\n",
    "\n",
    "trainer = ActiveTrainer(cfg, model)\n",
    "#trainer.resume_or_load(resume=True)\n",
    "\n",
    "#predictor = build_predictor(cfg, model)\n",
    "\n"
   ]
  },
  {
   "cell_type": "code",
   "execution_count": 9,
   "id": "jewish-thomson",
   "metadata": {},
   "outputs": [],
   "source": [
    "predictor = build_predictor(cfg, model)\n",
    "\n",
    "test_data_loader = build_detection_test_loader(\n",
    "    cfg, dataset_name=args.test_dataset)"
   ]
  },
  {
   "cell_type": "code",
   "execution_count": 76,
   "id": "oriental-bibliography",
   "metadata": {},
   "outputs": [
    {
     "name": "stderr",
     "output_type": "stream",
     "text": [
      "  0%|          | 11/10000 [00:06<1:42:02,  1.63it/s]\n"
     ]
    }
   ],
   "source": []
  },
  {
   "cell_type": "code",
   "execution_count": null,
   "id": "rising-piano",
   "metadata": {},
   "outputs": [
    {
     "name": "stdout",
     "output_type": "stream",
     "text": [
      "performing train step 1\n",
      "\u001b[32m[02/03 19:54:32 d2.engine.train_loop]: \u001b[0mStarting training from iteration 0\n",
      "\u001b[32m[02/03 19:54:47 d2.utils.events]: \u001b[0m eta: 0:00:39  iter: 99  total_loss: 0.1649  loss_cls: 0.04713  loss_box_reg: 0.1227  time: 0.1348  data_time: 0.0030  lr: 0.00024975  max_mem: 2432M\n",
      "\u001b[32m[02/03 19:55:01 d2.utils.events]: \u001b[0m eta: 0:00:26  iter: 199  total_loss: 0.2076  loss_cls: 0.05903  loss_box_reg: 0.1383  time: 0.1342  data_time: 0.0029  lr: 0.0004995  max_mem: 2432M\n",
      "\u001b[32m[02/03 19:55:14 d2.utils.events]: \u001b[0m eta: 0:00:13  iter: 299  total_loss: 0.2091  loss_cls: 0.05158  loss_box_reg: 0.1496  time: 0.1338  data_time: 0.0029  lr: 0.00074925  max_mem: 2432M\n",
      "\u001b[32m[02/03 19:55:28 fvcore.common.checkpoint]: \u001b[0mSaving checkpoint to /home/richard.tanai/cvpr2/pod_compare/data/BDD-Detection/retinanet/retinanet_R_50_FPN_1x_reg_cls_var_dropout/random_seed_333/model_final.pth\n",
      "\u001b[32m[02/03 19:55:28 d2.utils.events]: \u001b[0m eta: 0:00:00  iter: 399  total_loss: 0.2143  loss_cls: 0.05284  loss_box_reg: 0.1314  time: 0.1339  data_time: 0.0029  lr: 0.000999  max_mem: 2432M\n",
      "\u001b[32m[02/03 19:55:28 d2.engine.hooks]: \u001b[0mOverall training speed: 398 iterations in 0:00:53 (0.1339 s / it)\n",
      "\u001b[32m[02/03 19:55:28 d2.engine.hooks]: \u001b[0mTotal training time: 0:00:54 (0:00:00 on hooks)\n",
      "performing train step 2\n",
      "\u001b[32m[02/03 19:55:29 d2.engine.train_loop]: \u001b[0mStarting training from iteration 0\n",
      "\u001b[32m[02/03 19:55:42 d2.utils.events]: \u001b[0m eta: 0:01:32  iter: 99  total_loss: 0.1635  loss_cls: 0.03375  loss_box_reg: 0.1266  time: 0.1326  data_time: 0.0031  lr: 0.0012488  max_mem: 2432M\n",
      "\u001b[32m[02/03 19:55:56 d2.utils.events]: \u001b[0m eta: 0:01:20  iter: 199  total_loss: 0.1999  loss_cls: 0.04268  loss_box_reg: 0.1511  time: 0.1335  data_time: 0.0033  lr: 0.0014985  max_mem: 2432M\n",
      "\u001b[32m[02/03 19:56:09 d2.utils.events]: \u001b[0m eta: 0:01:07  iter: 299  total_loss: 0.1934  loss_cls: 0.05128  loss_box_reg: 0.1511  time: 0.1340  data_time: 0.0031  lr: 0.0017483  max_mem: 2432M\n",
      "\u001b[32m[02/03 19:56:23 d2.utils.events]: \u001b[0m eta: 0:00:53  iter: 399  total_loss: 0.1801  loss_cls: 0.04275  loss_box_reg: 0.1467  time: 0.1341  data_time: 0.0027  lr: 0.001998  max_mem: 2432M\n",
      "\u001b[32m[02/03 19:56:36 d2.utils.events]: \u001b[0m eta: 0:00:40  iter: 499  total_loss: 0.2326  loss_cls: 0.05311  loss_box_reg: 0.1689  time: 0.1345  data_time: 0.0027  lr: 0.0022478  max_mem: 2432M\n",
      "\u001b[32m[02/03 19:56:50 d2.utils.events]: \u001b[0m eta: 0:00:27  iter: 599  total_loss: 0.2327  loss_cls: 0.03916  loss_box_reg: 0.189  time: 0.1347  data_time: 0.0029  lr: 0.0024975  max_mem: 2432M\n",
      "\u001b[32m[02/03 19:57:03 d2.utils.events]: \u001b[0m eta: 0:00:13  iter: 699  total_loss: 0.2376  loss_cls: 0.0409  loss_box_reg: 0.1674  time: 0.1349  data_time: 0.0027  lr: 0.0025  max_mem: 2432M\n",
      "\u001b[32m[02/03 19:57:17 fvcore.common.checkpoint]: \u001b[0mSaving checkpoint to /home/richard.tanai/cvpr2/pod_compare/data/BDD-Detection/retinanet/retinanet_R_50_FPN_1x_reg_cls_var_dropout/random_seed_333/model_final.pth\n",
      "\u001b[32m[02/03 19:57:18 d2.utils.events]: \u001b[0m eta: 0:00:00  iter: 799  total_loss: 0.2453  loss_cls: 0.04173  loss_box_reg: 0.1717  time: 0.1350  data_time: 0.0028  lr: 0.0025  max_mem: 2432M\n",
      "\u001b[32m[02/03 19:57:18 d2.engine.hooks]: \u001b[0mOverall training speed: 798 iterations in 0:01:47 (0.1350 s / it)\n",
      "\u001b[32m[02/03 19:57:18 d2.engine.hooks]: \u001b[0mTotal training time: 0:01:48 (0:00:00 on hooks)\n",
      "performing train step 3\n",
      "\u001b[32m[02/03 19:57:18 d2.engine.train_loop]: \u001b[0mStarting training from iteration 0\n",
      "\u001b[32m[02/03 19:57:32 d2.utils.events]: \u001b[0m eta: 0:02:28  iter: 99  total_loss: 0.1861  loss_cls: 0.03662  loss_box_reg: 0.1396  time: 0.1340  data_time: 0.0029  lr: 0.0025  max_mem: 2432M\n",
      "\u001b[32m[02/03 19:57:45 d2.utils.events]: \u001b[0m eta: 0:02:14  iter: 199  total_loss: 0.1742  loss_cls: 0.03504  loss_box_reg: 0.1415  time: 0.1335  data_time: 0.0031  lr: 0.0025  max_mem: 2432M\n",
      "\u001b[32m[02/03 19:57:58 d2.utils.events]: \u001b[0m eta: 0:02:00  iter: 299  total_loss: 0.2143  loss_cls: 0.04398  loss_box_reg: 0.1666  time: 0.1337  data_time: 0.0030  lr: 0.0025  max_mem: 2432M\n",
      "\u001b[32m[02/03 19:58:12 d2.utils.events]: \u001b[0m eta: 0:01:47  iter: 399  total_loss: 0.2516  loss_cls: 0.05301  loss_box_reg: 0.1689  time: 0.1337  data_time: 0.0030  lr: 0.0025  max_mem: 2432M\n",
      "\u001b[32m[02/03 19:58:25 d2.utils.events]: \u001b[0m eta: 0:01:34  iter: 499  total_loss: 0.2231  loss_cls: 0.04093  loss_box_reg: 0.1705  time: 0.1339  data_time: 0.0029  lr: 0.0025  max_mem: 2432M\n",
      "\u001b[32m[02/03 19:58:39 d2.utils.events]: \u001b[0m eta: 0:01:20  iter: 599  total_loss: 0.1933  loss_cls: 0.02671  loss_box_reg: 0.1546  time: 0.1340  data_time: 0.0031  lr: 0.0025  max_mem: 2432M\n",
      "\u001b[32m[02/03 19:58:52 d2.utils.events]: \u001b[0m eta: 0:01:07  iter: 699  total_loss: 0.1527  loss_cls: 0.02168  loss_box_reg: 0.1339  time: 0.1341  data_time: 0.0029  lr: 0.0025  max_mem: 2432M\n",
      "\u001b[32m[02/03 19:59:06 d2.utils.events]: \u001b[0m eta: 0:00:53  iter: 799  total_loss: 0.2078  loss_cls: 0.03732  loss_box_reg: 0.1391  time: 0.1341  data_time: 0.0030  lr: 0.0025  max_mem: 2432M\n",
      "\u001b[32m[02/03 19:59:19 d2.utils.events]: \u001b[0m eta: 0:00:40  iter: 899  total_loss: 0.2226  loss_cls: 0.03825  loss_box_reg: 0.1686  time: 0.1342  data_time: 0.0031  lr: 0.0025  max_mem: 2432M\n",
      "\u001b[32m[02/03 19:59:33 d2.utils.events]: \u001b[0m eta: 0:00:26  iter: 999  total_loss: 0.2008  loss_cls: 0.03357  loss_box_reg: 0.1541  time: 0.1343  data_time: 0.0030  lr: 0.0025  max_mem: 2432M\n",
      "\u001b[32m[02/03 19:59:46 d2.utils.events]: \u001b[0m eta: 0:00:13  iter: 1099  total_loss: 0.1711  loss_cls: 0.03011  loss_box_reg: 0.1429  time: 0.1343  data_time: 0.0029  lr: 0.0025  max_mem: 2432M\n",
      "\u001b[32m[02/03 20:00:00 fvcore.common.checkpoint]: \u001b[0mSaving checkpoint to /home/richard.tanai/cvpr2/pod_compare/data/BDD-Detection/retinanet/retinanet_R_50_FPN_1x_reg_cls_var_dropout/random_seed_333/model_final.pth\n",
      "\u001b[32m[02/03 20:00:01 d2.utils.events]: \u001b[0m eta: 0:00:00  iter: 1199  total_loss: 0.1568  loss_cls: 0.02446  loss_box_reg: 0.132  time: 0.1344  data_time: 0.0031  lr: 0.0025  max_mem: 2432M\n",
      "\u001b[32m[02/03 20:00:01 d2.engine.hooks]: \u001b[0mOverall training speed: 1198 iterations in 0:02:40 (0.1344 s / it)\n",
      "\u001b[32m[02/03 20:00:01 d2.engine.hooks]: \u001b[0mTotal training time: 0:02:42 (0:00:01 on hooks)\n",
      "performing train step 4\n",
      "\u001b[32m[02/03 20:00:01 d2.engine.train_loop]: \u001b[0mStarting training from iteration 0\n",
      "\u001b[32m[02/03 20:00:14 d2.utils.events]: \u001b[0m eta: 0:03:21  iter: 99  total_loss: 0.1525  loss_cls: 0.02607  loss_box_reg: 0.1289  time: 0.1337  data_time: 0.0028  lr: 0.0025  max_mem: 2432M\n",
      "\u001b[32m[02/03 20:00:27 d2.utils.events]: \u001b[0m eta: 0:03:06  iter: 199  total_loss: 0.1678  loss_cls: 0.02322  loss_box_reg: 0.1398  time: 0.1331  data_time: 0.0029  lr: 0.0025  max_mem: 2432M\n",
      "\u001b[32m[02/03 20:00:41 d2.utils.events]: \u001b[0m eta: 0:02:53  iter: 299  total_loss: 0.1674  loss_cls: 0.03847  loss_box_reg: 0.1318  time: 0.1333  data_time: 0.0029  lr: 0.0025  max_mem: 2432M\n",
      "\u001b[32m[02/03 20:00:54 d2.utils.events]: \u001b[0m eta: 0:02:39  iter: 399  total_loss: 0.1642  loss_cls: 0.02805  loss_box_reg: 0.12  time: 0.1332  data_time: 0.0030  lr: 0.0025  max_mem: 2432M\n",
      "\u001b[32m[02/03 20:01:08 d2.utils.events]: \u001b[0m eta: 0:02:27  iter: 499  total_loss: 0.1395  loss_cls: 0.02218  loss_box_reg: 0.1123  time: 0.1335  data_time: 0.0030  lr: 0.0025  max_mem: 2432M\n",
      "\u001b[32m[02/03 20:01:21 d2.utils.events]: \u001b[0m eta: 0:02:14  iter: 599  total_loss: 0.12  loss_cls: 0.02299  loss_box_reg: 0.09685  time: 0.1338  data_time: 0.0029  lr: 0.0025  max_mem: 2432M\n",
      "\u001b[32m[02/03 20:01:35 d2.utils.events]: \u001b[0m eta: 0:02:00  iter: 699  total_loss: 0.1829  loss_cls: 0.02418  loss_box_reg: 0.1361  time: 0.1339  data_time: 0.0029  lr: 0.0025  max_mem: 2432M\n",
      "\u001b[32m[02/03 20:01:48 d2.utils.events]: \u001b[0m eta: 0:01:47  iter: 799  total_loss: 0.1704  loss_cls: 0.02414  loss_box_reg: 0.1195  time: 0.1340  data_time: 0.0028  lr: 0.0025  max_mem: 2432M\n",
      "\u001b[32m[02/03 20:02:02 d2.utils.events]: \u001b[0m eta: 0:01:34  iter: 899  total_loss: 0.171  loss_cls: 0.02412  loss_box_reg: 0.1377  time: 0.1341  data_time: 0.0031  lr: 0.0025  max_mem: 2432M\n",
      "\u001b[32m[02/03 20:02:15 d2.utils.events]: \u001b[0m eta: 0:01:20  iter: 999  total_loss: 0.1368  loss_cls: 0.02085  loss_box_reg: 0.1172  time: 0.1342  data_time: 0.0030  lr: 0.0025  max_mem: 2432M\n",
      "\u001b[32m[02/03 20:02:29 d2.utils.events]: \u001b[0m eta: 0:01:07  iter: 1099  total_loss: 0.1358  loss_cls: 0.01549  loss_box_reg: 0.1183  time: 0.1341  data_time: 0.0028  lr: 0.0025  max_mem: 2432M\n"
     ]
    },
    {
     "name": "stdout",
     "output_type": "stream",
     "text": [
      "\u001b[32m[02/03 20:02:42 d2.utils.events]: \u001b[0m eta: 0:00:53  iter: 1199  total_loss: 0.1498  loss_cls: 0.02695  loss_box_reg: 0.1131  time: 0.1342  data_time: 0.0026  lr: 0.0025  max_mem: 2432M\n",
      "\u001b[32m[02/03 20:02:56 d2.utils.events]: \u001b[0m eta: 0:00:40  iter: 1299  total_loss: 0.158  loss_cls: 0.01868  loss_box_reg: 0.1294  time: 0.1342  data_time: 0.0028  lr: 0.0025  max_mem: 2432M\n",
      "\u001b[32m[02/03 20:03:09 d2.utils.events]: \u001b[0m eta: 0:00:27  iter: 1399  total_loss: 0.165  loss_cls: 0.02679  loss_box_reg: 0.1155  time: 0.1343  data_time: 0.0031  lr: 0.0025  max_mem: 2432M\n",
      "\u001b[32m[02/03 20:03:23 d2.utils.events]: \u001b[0m eta: 0:00:13  iter: 1499  total_loss: 0.1426  loss_cls: 0.01527  loss_box_reg: 0.1248  time: 0.1343  data_time: 0.0029  lr: 0.0025  max_mem: 2432M\n",
      "\u001b[32m[02/03 20:03:36 fvcore.common.checkpoint]: \u001b[0mSaving checkpoint to /home/richard.tanai/cvpr2/pod_compare/data/BDD-Detection/retinanet/retinanet_R_50_FPN_1x_reg_cls_var_dropout/random_seed_333/model_final.pth\n",
      "\u001b[32m[02/03 20:03:37 d2.utils.events]: \u001b[0m eta: 0:00:00  iter: 1599  total_loss: 0.1387  loss_cls: 0.01357  loss_box_reg: 0.119  time: 0.1343  data_time: 0.0030  lr: 0.0025  max_mem: 2432M\n",
      "\u001b[32m[02/03 20:03:37 d2.engine.hooks]: \u001b[0mOverall training speed: 1598 iterations in 0:03:34 (0.1343 s / it)\n",
      "\u001b[32m[02/03 20:03:37 d2.engine.hooks]: \u001b[0mTotal training time: 0:03:35 (0:00:01 on hooks)\n",
      "performing train step 5\n",
      "\u001b[32m[02/03 20:03:37 d2.engine.train_loop]: \u001b[0mStarting training from iteration 0\n",
      "\u001b[32m[02/03 20:03:51 d2.utils.events]: \u001b[0m eta: 0:04:16  iter: 99  total_loss: 0.1006  loss_cls: 0.01237  loss_box_reg: 0.08744  time: 0.1346  data_time: 0.0031  lr: 0.0025  max_mem: 2432M\n",
      "\u001b[32m[02/03 20:04:04 d2.utils.events]: \u001b[0m eta: 0:04:02  iter: 199  total_loss: 0.1486  loss_cls: 0.0258  loss_box_reg: 0.1284  time: 0.1346  data_time: 0.0031  lr: 0.0025  max_mem: 2432M\n",
      "\u001b[32m[02/03 20:04:18 d2.utils.events]: \u001b[0m eta: 0:03:49  iter: 299  total_loss: 0.1369  loss_cls: 0.0194  loss_box_reg: 0.1124  time: 0.1346  data_time: 0.0030  lr: 0.0025  max_mem: 2432M\n",
      "\u001b[32m[02/03 20:04:31 d2.utils.events]: \u001b[0m eta: 0:03:35  iter: 399  total_loss: 0.1272  loss_cls: 0.01484  loss_box_reg: 0.1104  time: 0.1346  data_time: 0.0029  lr: 0.0025  max_mem: 2432M\n",
      "\u001b[32m[02/03 20:04:45 d2.utils.events]: \u001b[0m eta: 0:03:22  iter: 499  total_loss: 0.133  loss_cls: 0.01498  loss_box_reg: 0.1104  time: 0.1347  data_time: 0.0029  lr: 0.0025  max_mem: 2432M\n",
      "\u001b[32m[02/03 20:04:58 d2.utils.events]: \u001b[0m eta: 0:03:08  iter: 599  total_loss: 0.171  loss_cls: 0.02657  loss_box_reg: 0.1353  time: 0.1347  data_time: 0.0028  lr: 0.0025  max_mem: 2432M\n",
      "\u001b[32m[02/03 20:05:12 d2.utils.events]: \u001b[0m eta: 0:02:55  iter: 699  total_loss: 0.1004  loss_cls: 0.01415  loss_box_reg: 0.08602  time: 0.1347  data_time: 0.0030  lr: 0.0025  max_mem: 2432M\n",
      "\u001b[32m[02/03 20:05:25 d2.utils.events]: \u001b[0m eta: 0:02:41  iter: 799  total_loss: 0.1446  loss_cls: 0.02123  loss_box_reg: 0.1195  time: 0.1346  data_time: 0.0031  lr: 0.0025  max_mem: 2432M\n",
      "\u001b[32m[02/03 20:05:38 d2.utils.events]: \u001b[0m eta: 0:02:28  iter: 899  total_loss: 0.1387  loss_cls: 0.0183  loss_box_reg: 0.1169  time: 0.1346  data_time: 0.0029  lr: 0.0025  max_mem: 2432M\n",
      "\u001b[32m[02/03 20:05:52 d2.utils.events]: \u001b[0m eta: 0:02:14  iter: 999  total_loss: 0.1196  loss_cls: 0.01049  loss_box_reg: 0.11  time: 0.1345  data_time: 0.0030  lr: 0.0025  max_mem: 2432M\n",
      "\u001b[32m[02/03 20:06:05 d2.utils.events]: \u001b[0m eta: 0:02:01  iter: 1099  total_loss: 0.1478  loss_cls: 0.0276  loss_box_reg: 0.1092  time: 0.1345  data_time: 0.0031  lr: 0.0025  max_mem: 2432M\n",
      "\u001b[32m[02/03 20:06:19 d2.utils.events]: \u001b[0m eta: 0:01:47  iter: 1199  total_loss: 0.1581  loss_cls: 0.01961  loss_box_reg: 0.1147  time: 0.1345  data_time: 0.0030  lr: 0.0025  max_mem: 2432M\n",
      "\u001b[32m[02/03 20:06:32 d2.utils.events]: \u001b[0m eta: 0:01:34  iter: 1299  total_loss: 0.1236  loss_cls: 0.01089  loss_box_reg: 0.1059  time: 0.1345  data_time: 0.0028  lr: 0.0025  max_mem: 2432M\n",
      "\u001b[32m[02/03 20:06:46 d2.utils.events]: \u001b[0m eta: 0:01:20  iter: 1399  total_loss: 0.133  loss_cls: 0.01047  loss_box_reg: 0.1231  time: 0.1345  data_time: 0.0027  lr: 0.0025  max_mem: 2432M\n",
      "\u001b[32m[02/03 20:06:59 d2.utils.events]: \u001b[0m eta: 0:01:07  iter: 1499  total_loss: 0.1252  loss_cls: 0.01897  loss_box_reg: 0.1113  time: 0.1345  data_time: 0.0029  lr: 0.0025  max_mem: 2432M\n",
      "\u001b[32m[02/03 20:07:13 d2.utils.events]: \u001b[0m eta: 0:00:53  iter: 1599  total_loss: 0.136  loss_cls: 0.01488  loss_box_reg: 0.1052  time: 0.1346  data_time: 0.0027  lr: 0.0025  max_mem: 2432M\n",
      "\u001b[32m[02/03 20:07:27 d2.utils.events]: \u001b[0m eta: 0:00:40  iter: 1699  total_loss: 0.1373  loss_cls: 0.01442  loss_box_reg: 0.1233  time: 0.1347  data_time: 0.0028  lr: 0.0025  max_mem: 2432M\n",
      "\u001b[32m[02/03 20:07:40 d2.utils.events]: \u001b[0m eta: 0:00:27  iter: 1799  total_loss: 0.1188  loss_cls: 0.0114  loss_box_reg: 0.11  time: 0.1348  data_time: 0.0028  lr: 0.0025  max_mem: 2432M\n",
      "\u001b[32m[02/03 20:07:54 d2.utils.events]: \u001b[0m eta: 0:00:13  iter: 1899  total_loss: 0.1602  loss_cls: 0.02211  loss_box_reg: 0.1296  time: 0.1349  data_time: 0.0028  lr: 0.0025  max_mem: 2432M\n",
      "\u001b[32m[02/03 20:08:07 fvcore.common.checkpoint]: \u001b[0mSaving checkpoint to /home/richard.tanai/cvpr2/pod_compare/data/BDD-Detection/retinanet/retinanet_R_50_FPN_1x_reg_cls_var_dropout/random_seed_333/model_final.pth\n",
      "\u001b[32m[02/03 20:08:08 d2.utils.events]: \u001b[0m eta: 0:00:00  iter: 1999  total_loss: 0.1002  loss_cls: 0.008228  loss_box_reg: 0.08854  time: 0.1349  data_time: 0.0028  lr: 0.0025  max_mem: 2432M\n",
      "\u001b[32m[02/03 20:08:08 d2.engine.hooks]: \u001b[0mOverall training speed: 1998 iterations in 0:04:29 (0.1349 s / it)\n",
      "\u001b[32m[02/03 20:08:08 d2.engine.hooks]: \u001b[0mTotal training time: 0:04:30 (0:00:01 on hooks)\n",
      "performing train step 6\n",
      "\u001b[32m[02/03 20:08:08 d2.engine.train_loop]: \u001b[0mStarting training from iteration 0\n",
      "\u001b[32m[02/03 20:08:22 d2.utils.events]: \u001b[0m eta: 0:05:07  iter: 99  total_loss: 0.1236  loss_cls: 0.01285  loss_box_reg: 0.1076  time: 0.1338  data_time: 0.0029  lr: 0.0025  max_mem: 2432M\n",
      "\u001b[32m[02/03 20:08:35 d2.utils.events]: \u001b[0m eta: 0:04:54  iter: 199  total_loss: 0.1326  loss_cls: 0.01478  loss_box_reg: 0.116  time: 0.1340  data_time: 0.0030  lr: 0.0025  max_mem: 2432M\n",
      "\u001b[32m[02/03 20:08:49 d2.utils.events]: \u001b[0m eta: 0:04:42  iter: 299  total_loss: 0.1259  loss_cls: 0.01315  loss_box_reg: 0.1061  time: 0.1341  data_time: 0.0031  lr: 0.0025  max_mem: 2432M\n",
      "\u001b[32m[02/03 20:09:02 d2.utils.events]: \u001b[0m eta: 0:04:28  iter: 399  total_loss: 0.1159  loss_cls: 0.008901  loss_box_reg: 0.1089  time: 0.1343  data_time: 0.0029  lr: 0.0025  max_mem: 2432M\n",
      "\u001b[32m[02/03 20:09:16 d2.utils.events]: \u001b[0m eta: 0:04:15  iter: 499  total_loss: 0.1062  loss_cls: 0.008898  loss_box_reg: 0.08741  time: 0.1343  data_time: 0.0031  lr: 0.0025  max_mem: 2432M\n",
      "\u001b[32m[02/03 20:09:29 d2.utils.events]: \u001b[0m eta: 0:04:02  iter: 599  total_loss: 0.1203  loss_cls: 0.01235  loss_box_reg: 0.103  time: 0.1343  data_time: 0.0030  lr: 0.0025  max_mem: 2432M\n",
      "\u001b[32m[02/03 20:09:43 d2.utils.events]: \u001b[0m eta: 0:03:48  iter: 699  total_loss: 0.1062  loss_cls: 0.0116  loss_box_reg: 0.09767  time: 0.1344  data_time: 0.0028  lr: 0.0025  max_mem: 2432M\n",
      "\u001b[32m[02/03 20:09:56 d2.utils.events]: \u001b[0m eta: 0:03:35  iter: 799  total_loss: 0.05724  loss_cls: 0.006905  loss_box_reg: 0.04879  time: 0.1344  data_time: 0.0032  lr: 0.0025  max_mem: 2432M\n",
      "\u001b[32m[02/03 20:10:10 d2.utils.events]: \u001b[0m eta: 0:03:22  iter: 899  total_loss: 0.1339  loss_cls: 0.01407  loss_box_reg: 0.1106  time: 0.1344  data_time: 0.0029  lr: 0.0025  max_mem: 2432M\n",
      "\u001b[32m[02/03 20:10:23 d2.utils.events]: \u001b[0m eta: 0:03:08  iter: 999  total_loss: 0.09118  loss_cls: 0.007968  loss_box_reg: 0.08629  time: 0.1344  data_time: 0.0029  lr: 0.0025  max_mem: 2432M\n",
      "\u001b[32m[02/03 20:10:37 d2.utils.events]: \u001b[0m eta: 0:02:55  iter: 1099  total_loss: 0.1325  loss_cls: 0.01216  loss_box_reg: 0.1121  time: 0.1344  data_time: 0.0031  lr: 0.0025  max_mem: 2432M\n",
      "\u001b[32m[02/03 20:10:50 d2.utils.events]: \u001b[0m eta: 0:02:41  iter: 1199  total_loss: 0.1066  loss_cls: 0.006218  loss_box_reg: 0.09824  time: 0.1344  data_time: 0.0028  lr: 0.0025  max_mem: 2432M\n",
      "\u001b[32m[02/03 20:11:03 d2.utils.events]: \u001b[0m eta: 0:02:28  iter: 1299  total_loss: 0.1144  loss_cls: 0.01088  loss_box_reg: 0.101  time: 0.1344  data_time: 0.0031  lr: 0.0025  max_mem: 2432M\n"
     ]
    },
    {
     "name": "stdout",
     "output_type": "stream",
     "text": [
      "\u001b[32m[02/03 20:11:17 d2.utils.events]: \u001b[0m eta: 0:02:14  iter: 1399  total_loss: 0.1254  loss_cls: 0.01125  loss_box_reg: 0.1139  time: 0.1344  data_time: 0.0029  lr: 0.0025  max_mem: 2432M\n",
      "\u001b[32m[02/03 20:11:30 d2.utils.events]: \u001b[0m eta: 0:02:01  iter: 1499  total_loss: 0.1187  loss_cls: 0.00807  loss_box_reg: 0.09897  time: 0.1344  data_time: 0.0030  lr: 0.0025  max_mem: 2432M\n",
      "\u001b[32m[02/03 20:11:44 d2.utils.events]: \u001b[0m eta: 0:01:47  iter: 1599  total_loss: 0.09336  loss_cls: 0.008918  loss_box_reg: 0.0817  time: 0.1343  data_time: 0.0031  lr: 0.0025  max_mem: 2432M\n",
      "\u001b[32m[02/03 20:11:57 d2.utils.events]: \u001b[0m eta: 0:01:34  iter: 1699  total_loss: 0.1094  loss_cls: 0.007791  loss_box_reg: 0.09254  time: 0.1342  data_time: 0.0028  lr: 0.0025  max_mem: 2432M\n",
      "\u001b[32m[02/03 20:12:11 d2.utils.events]: \u001b[0m eta: 0:01:20  iter: 1799  total_loss: 0.09628  loss_cls: 0.01202  loss_box_reg: 0.07901  time: 0.1343  data_time: 0.0030  lr: 0.0025  max_mem: 2432M\n",
      "\u001b[32m[02/03 20:12:24 d2.utils.events]: \u001b[0m eta: 0:01:07  iter: 1899  total_loss: 0.101  loss_cls: 0.01026  loss_box_reg: 0.09608  time: 0.1343  data_time: 0.0031  lr: 0.0025  max_mem: 2432M\n",
      "\u001b[32m[02/03 20:12:38 d2.utils.events]: \u001b[0m eta: 0:00:53  iter: 1999  total_loss: 0.1054  loss_cls: 0.006112  loss_box_reg: 0.1006  time: 0.1343  data_time: 0.0031  lr: 0.0025  max_mem: 2432M\n",
      "\u001b[32m[02/03 20:12:51 d2.utils.events]: \u001b[0m eta: 0:00:40  iter: 2099  total_loss: 0.09125  loss_cls: 0.006459  loss_box_reg: 0.07807  time: 0.1343  data_time: 0.0031  lr: 0.0025  max_mem: 2432M\n",
      "\u001b[32m[02/03 20:13:04 d2.utils.events]: \u001b[0m eta: 0:00:26  iter: 2199  total_loss: 0.08198  loss_cls: 0.006817  loss_box_reg: 0.07655  time: 0.1343  data_time: 0.0029  lr: 0.0025  max_mem: 2432M\n",
      "\u001b[32m[02/03 20:13:18 d2.utils.events]: \u001b[0m eta: 0:00:13  iter: 2299  total_loss: 0.1002  loss_cls: 0.01163  loss_box_reg: 0.08747  time: 0.1343  data_time: 0.0029  lr: 0.0025  max_mem: 2432M\n",
      "\u001b[32m[02/03 20:13:31 fvcore.common.checkpoint]: \u001b[0mSaving checkpoint to /home/richard.tanai/cvpr2/pod_compare/data/BDD-Detection/retinanet/retinanet_R_50_FPN_1x_reg_cls_var_dropout/random_seed_333/model_final.pth\n",
      "\u001b[32m[02/03 20:13:32 d2.utils.events]: \u001b[0m eta: 0:00:00  iter: 2399  total_loss: 0.1057  loss_cls: 0.009857  loss_box_reg: 0.09815  time: 0.1343  data_time: 0.0030  lr: 0.0025  max_mem: 2432M\n",
      "\u001b[32m[02/03 20:13:32 d2.engine.hooks]: \u001b[0mOverall training speed: 2398 iterations in 0:05:22 (0.1343 s / it)\n",
      "\u001b[32m[02/03 20:13:32 d2.engine.hooks]: \u001b[0mTotal training time: 0:05:23 (0:00:01 on hooks)\n",
      "performing train step 7\n",
      "\u001b[32m[02/03 20:13:32 d2.engine.train_loop]: \u001b[0mStarting training from iteration 0\n",
      "\u001b[32m[02/03 20:13:46 d2.utils.events]: \u001b[0m eta: 0:06:02  iter: 99  total_loss: 0.0901  loss_cls: 0.008779  loss_box_reg: 0.08513  time: 0.1335  data_time: 0.0030  lr: 0.0025  max_mem: 2432M\n",
      "\u001b[32m[02/03 20:13:59 d2.utils.events]: \u001b[0m eta: 0:05:47  iter: 199  total_loss: 0.09627  loss_cls: 0.00978  loss_box_reg: 0.07905  time: 0.1335  data_time: 0.0029  lr: 0.0025  max_mem: 2432M\n",
      "\u001b[32m[02/03 20:14:13 d2.utils.events]: \u001b[0m eta: 0:05:35  iter: 299  total_loss: 0.1191  loss_cls: 0.01411  loss_box_reg: 0.1028  time: 0.1340  data_time: 0.0031  lr: 0.0025  max_mem: 2432M\n",
      "\u001b[32m[02/03 20:14:26 d2.utils.events]: \u001b[0m eta: 0:05:22  iter: 399  total_loss: 0.07609  loss_cls: 0.007106  loss_box_reg: 0.0699  time: 0.1342  data_time: 0.0031  lr: 0.0025  max_mem: 2432M\n",
      "\u001b[32m[02/03 20:14:40 d2.utils.events]: \u001b[0m eta: 0:05:09  iter: 499  total_loss: 0.1144  loss_cls: 0.0102  loss_box_reg: 0.09738  time: 0.1343  data_time: 0.0030  lr: 0.0025  max_mem: 2432M\n",
      "\u001b[32m[02/03 20:14:53 d2.utils.events]: \u001b[0m eta: 0:04:56  iter: 599  total_loss: 0.1074  loss_cls: 0.009064  loss_box_reg: 0.09604  time: 0.1344  data_time: 0.0030  lr: 0.0025  max_mem: 2432M\n",
      "\u001b[32m[02/03 20:15:07 d2.utils.events]: \u001b[0m eta: 0:04:42  iter: 699  total_loss: 0.1083  loss_cls: 0.009636  loss_box_reg: 0.09205  time: 0.1345  data_time: 0.0032  lr: 0.0025  max_mem: 2432M\n",
      "\u001b[32m[02/03 20:15:20 d2.utils.events]: \u001b[0m eta: 0:04:29  iter: 799  total_loss: 0.08599  loss_cls: 0.005971  loss_box_reg: 0.08285  time: 0.1344  data_time: 0.0028  lr: 0.0025  max_mem: 2432M\n",
      "\u001b[32m[02/03 20:15:34 d2.utils.events]: \u001b[0m eta: 0:04:15  iter: 899  total_loss: 0.1062  loss_cls: 0.01079  loss_box_reg: 0.08853  time: 0.1344  data_time: 0.0030  lr: 0.0025  max_mem: 2432M\n",
      "\u001b[32m[02/03 20:15:47 d2.utils.events]: \u001b[0m eta: 0:04:02  iter: 999  total_loss: 0.07675  loss_cls: 0.007179  loss_box_reg: 0.07026  time: 0.1345  data_time: 0.0029  lr: 0.0025  max_mem: 2432M\n",
      "\u001b[32m[02/03 20:16:01 d2.utils.events]: \u001b[0m eta: 0:03:49  iter: 1099  total_loss: 0.08401  loss_cls: 0.004785  loss_box_reg: 0.08007  time: 0.1345  data_time: 0.0029  lr: 0.0025  max_mem: 2432M\n",
      "\u001b[32m[02/03 20:16:14 d2.utils.events]: \u001b[0m eta: 0:03:35  iter: 1199  total_loss: 0.1056  loss_cls: 0.00699  loss_box_reg: 0.09153  time: 0.1346  data_time: 0.0030  lr: 0.0025  max_mem: 2432M\n",
      "\u001b[32m[02/03 20:16:28 d2.utils.events]: \u001b[0m eta: 0:03:22  iter: 1299  total_loss: 0.09254  loss_cls: 0.005502  loss_box_reg: 0.07878  time: 0.1346  data_time: 0.0029  lr: 0.0025  max_mem: 2432M\n",
      "\u001b[32m[02/03 20:16:41 d2.utils.events]: \u001b[0m eta: 0:03:08  iter: 1399  total_loss: 0.1061  loss_cls: 0.005493  loss_box_reg: 0.1037  time: 0.1346  data_time: 0.0029  lr: 0.0025  max_mem: 2432M\n",
      "\u001b[32m[02/03 20:16:55 d2.utils.events]: \u001b[0m eta: 0:02:55  iter: 1499  total_loss: 0.07686  loss_cls: 0.003555  loss_box_reg: 0.07368  time: 0.1347  data_time: 0.0029  lr: 0.0025  max_mem: 2432M\n",
      "\u001b[32m[02/03 20:17:08 d2.utils.events]: \u001b[0m eta: 0:02:41  iter: 1599  total_loss: 0.1158  loss_cls: 0.009935  loss_box_reg: 0.09927  time: 0.1346  data_time: 0.0028  lr: 0.0025  max_mem: 2432M\n",
      "\u001b[32m[02/03 20:17:22 d2.utils.events]: \u001b[0m eta: 0:02:28  iter: 1699  total_loss: 0.09872  loss_cls: 0.007651  loss_box_reg: 0.08341  time: 0.1346  data_time: 0.0030  lr: 0.0025  max_mem: 2432M\n",
      "\u001b[32m[02/03 20:17:35 d2.utils.events]: \u001b[0m eta: 0:02:14  iter: 1799  total_loss: 0.08792  loss_cls: 0.005522  loss_box_reg: 0.07586  time: 0.1346  data_time: 0.0029  lr: 0.0025  max_mem: 2432M\n",
      "\u001b[32m[02/03 20:17:49 d2.utils.events]: \u001b[0m eta: 0:02:01  iter: 1899  total_loss: 0.08856  loss_cls: 0.003897  loss_box_reg: 0.08453  time: 0.1346  data_time: 0.0028  lr: 0.0025  max_mem: 2432M\n",
      "\u001b[32m[02/03 20:18:02 d2.utils.events]: \u001b[0m eta: 0:01:47  iter: 1999  total_loss: 0.07374  loss_cls: 0.004469  loss_box_reg: 0.07003  time: 0.1346  data_time: 0.0031  lr: 0.0025  max_mem: 2432M\n",
      "\u001b[32m[02/03 20:18:16 d2.utils.events]: \u001b[0m eta: 0:01:34  iter: 2099  total_loss: 0.06365  loss_cls: 0.003189  loss_box_reg: 0.05532  time: 0.1346  data_time: 0.0029  lr: 0.0025  max_mem: 2432M\n",
      "\u001b[32m[02/03 20:18:29 d2.utils.events]: \u001b[0m eta: 0:01:20  iter: 2199  total_loss: 0.1012  loss_cls: 0.005556  loss_box_reg: 0.09037  time: 0.1346  data_time: 0.0030  lr: 0.0025  max_mem: 2432M\n",
      "\u001b[32m[02/03 20:18:43 d2.utils.events]: \u001b[0m eta: 0:01:07  iter: 2299  total_loss: 0.09181  loss_cls: 0.004422  loss_box_reg: 0.07969  time: 0.1346  data_time: 0.0028  lr: 0.0025  max_mem: 2432M\n",
      "\u001b[32m[02/03 20:18:56 d2.utils.events]: \u001b[0m eta: 0:00:53  iter: 2399  total_loss: 0.09112  loss_cls: 0.005265  loss_box_reg: 0.0817  time: 0.1346  data_time: 0.0030  lr: 0.0025  max_mem: 2432M\n",
      "\u001b[32m[02/03 20:19:09 d2.utils.events]: \u001b[0m eta: 0:00:40  iter: 2499  total_loss: 0.07894  loss_cls: 0.00318  loss_box_reg: 0.07515  time: 0.1346  data_time: 0.0030  lr: 0.0025  max_mem: 2432M\n",
      "\u001b[32m[02/03 20:19:23 d2.utils.events]: \u001b[0m eta: 0:00:26  iter: 2599  total_loss: 0.0891  loss_cls: 0.005234  loss_box_reg: 0.08021  time: 0.1346  data_time: 0.0031  lr: 0.0025  max_mem: 2432M\n",
      "\u001b[32m[02/03 20:19:36 d2.utils.events]: \u001b[0m eta: 0:00:13  iter: 2699  total_loss: 0.07463  loss_cls: 0.005677  loss_box_reg: 0.0697  time: 0.1345  data_time: 0.0029  lr: 0.0025  max_mem: 2432M\n",
      "\u001b[32m[02/03 20:19:50 fvcore.common.checkpoint]: \u001b[0mSaving checkpoint to /home/richard.tanai/cvpr2/pod_compare/data/BDD-Detection/retinanet/retinanet_R_50_FPN_1x_reg_cls_var_dropout/random_seed_333/model_final.pth\n",
      "\u001b[32m[02/03 20:19:51 d2.utils.events]: \u001b[0m eta: 0:00:00  iter: 2799  total_loss: 0.08961  loss_cls: 0.005211  loss_box_reg: 0.08267  time: 0.1345  data_time: 0.0029  lr: 0.0025  max_mem: 2432M\n"
     ]
    },
    {
     "name": "stdout",
     "output_type": "stream",
     "text": [
      "\u001b[32m[02/03 20:19:51 d2.engine.hooks]: \u001b[0mOverall training speed: 2798 iterations in 0:06:16 (0.1346 s / it)\n",
      "\u001b[32m[02/03 20:19:51 d2.engine.hooks]: \u001b[0mTotal training time: 0:06:17 (0:00:01 on hooks)\n",
      "performing train step 8\n",
      "\u001b[32m[02/03 20:19:51 d2.engine.train_loop]: \u001b[0mStarting training from iteration 0\n",
      "\u001b[32m[02/03 20:20:04 d2.utils.events]: \u001b[0m eta: 0:06:56  iter: 99  total_loss: 0.0966  loss_cls: 0.00805  loss_box_reg: 0.08493  time: 0.1342  data_time: 0.0030  lr: 0.0025  max_mem: 2432M\n",
      "\u001b[32m[02/03 20:20:18 d2.utils.events]: \u001b[0m eta: 0:06:42  iter: 199  total_loss: 0.08495  loss_cls: 0.003859  loss_box_reg: 0.07971  time: 0.1341  data_time: 0.0029  lr: 0.0025  max_mem: 2432M\n",
      "\u001b[32m[02/03 20:20:31 d2.utils.events]: \u001b[0m eta: 0:06:29  iter: 299  total_loss: 0.09162  loss_cls: 0.00396  loss_box_reg: 0.08664  time: 0.1340  data_time: 0.0029  lr: 0.0025  max_mem: 2432M\n",
      "\u001b[32m[02/03 20:20:45 d2.utils.events]: \u001b[0m eta: 0:06:16  iter: 399  total_loss: 0.06917  loss_cls: 0.003399  loss_box_reg: 0.06557  time: 0.1340  data_time: 0.0030  lr: 0.0025  max_mem: 2432M\n",
      "\u001b[32m[02/03 20:20:58 d2.utils.events]: \u001b[0m eta: 0:06:02  iter: 499  total_loss: 0.06515  loss_cls: 0.002796  loss_box_reg: 0.0603  time: 0.1341  data_time: 0.0030  lr: 0.0025  max_mem: 2432M\n"
     ]
    }
   ],
   "source": [
    "# 10000 is already started in the init\n",
    "# epoch is 20, just an arbitrary number lol\n",
    "train_step = 1\n",
    "label_per_step = 100\n",
    "while(1):\n",
    "    print(f\"performing train step {train_step}\")\n",
    "    trainer.train()\n",
    "    torch.save(model.state_dict(), f\"outputs/checkpoint_step{train_step}.pth\")\n",
    "    if len(trainer.dataset) >= label_per_step:\n",
    "        trainer.dataset.label_randomly(label_per_step)\n",
    "    elif len(trainer.dataset) > 0:\n",
    "        trainer.datasaet.label_randomly(len(trainer.dataset))\n",
    "    else:\n",
    "        break\n",
    "    trainer.rebuild_trainer()\n",
    "    train_step += 1"
   ]
  },
  {
   "cell_type": "code",
   "execution_count": null,
   "id": "military-scroll",
   "metadata": {},
   "outputs": [],
   "source": [
    "len(trainer.dataset.pool)"
   ]
  },
  {
   "cell_type": "code",
   "execution_count": null,
   "id": "alike-yeast",
   "metadata": {},
   "outputs": [],
   "source": [
    "# coco has 80000 images\n",
    "# the max iter is 90000 and batchsize of 4, making it about 4.5epochs\n",
    "# for this study 4 epochs will be used instead\n",
    "# no weights refresh will be used\n",
    "# hooks are now rebuilt"
   ]
  },
  {
   "cell_type": "code",
   "execution_count": 4,
   "id": "pointed-constitutional",
   "metadata": {},
   "outputs": [],
   "source": [
    "## prediction outputs\n",
    "# in what order are the outputs arranged, they are arranged by the max clas pred score\n",
    "\n",
    "\n",
    "# to do\n",
    "# change test dataloader to pool dataloader\n",
    "# use "
   ]
  },
  {
   "cell_type": "code",
   "execution_count": 115,
   "id": "helpful-greek",
   "metadata": {},
   "outputs": [
    {
     "name": "stderr",
     "output_type": "stream",
     "text": [
      "  0%|          | 11/10000 [00:06<1:39:44,  1.67it/s]\n"
     ]
    }
   ],
   "source": [
    "final_output_list = []\n",
    "cls_score_list = []\n",
    "box_score_list = []\n",
    "\n",
    "\n",
    "if not args.eval_only:\n",
    "    with torch.no_grad():\n",
    "        with tqdm.tqdm(total=len(test_data_loader)) as pbar:\n",
    "            for idx, input_im in enumerate(test_data_loader):\n",
    "                #print(input_im.size)\n",
    "                outputs = predictor(input_im)\n",
    "                final_output_list.extend(\n",
    "                    instances_to_json(\n",
    "                        outputs,\n",
    "                        input_im[0]['image_id'],\n",
    "                        cat_mapping_dict))\n",
    "                results = outputs\n",
    "                \n",
    "                cls_preds = results.pred_cls_probs.cpu().numpy()\n",
    "                predicted_boxes = results.pred_boxes.tensor.cpu().numpy()\n",
    "                predicted_covar_mats = results.pred_boxes_covariance.cpu().numpy()\n",
    "                \n",
    "                box_score = np.array([mat.diagonal().prod() for mat in predicted_covar_mats]).mean()\n",
    "                #mean of the max confidence\n",
    "                cls_score = cls_preds.max(axis=1).mean()\n",
    "                #change cls_score to entropy next time\n",
    "                box_score_list.append(box_score)\n",
    "                cls_score_list.append(cls_score)\n",
    "                \n",
    "                pbar.update(1)\n",
    "                \n",
    "                \n",
    "cls_score_rank = np.array(cls_score_list).argsort().argsort()\n",
    "box_score_rank = (-np.array(box_score_list)).argsort().argsort()\n",
    "total_sort = np.argsort(cls_score_rank + box_score_rank)\n",
    "idx_to_label = total_sort[:10000].tolist()"
   ]
  },
  {
   "cell_type": "code",
   "execution_count": null,
   "id": "subject-johnson",
   "metadata": {},
   "outputs": [],
   "source": [
    "#sort from most uncertain to least uncertain"
   ]
  },
  {
   "cell_type": "code",
   "execution_count": 134,
   "id": "organizational-longer",
   "metadata": {},
   "outputs": [],
   "source": [
    "cls_score_rank = np.array(cls_score_list).argsort().argsort()\n",
    "box_score_rank = (-np.array(box_score_list)).argsort().argsort()\n",
    "total_sort = np.argsort(cls_score_rank + box_score_rank)\n",
    "idx_to_label = total_sort[:3].tolist()"
   ]
  },
  {
   "cell_type": "code",
   "execution_count": 135,
   "id": "advised-arbor",
   "metadata": {},
   "outputs": [
    {
     "data": {
      "text/plain": [
       "[5, 10, 1]"
      ]
     },
     "execution_count": 135,
     "metadata": {},
     "output_type": "execute_result"
    }
   ],
   "source": [
    "idx_to_label"
   ]
  },
  {
   "cell_type": "code",
   "execution_count": 122,
   "id": "single-spiritual",
   "metadata": {},
   "outputs": [
    {
     "data": {
      "text/plain": [
       "[0.27794713,\n",
       " 0.13429637,\n",
       " 0.16547583,\n",
       " 0.24252155,\n",
       " 0.25121427,\n",
       " 0.10372658,\n",
       " 0.21627478,\n",
       " 0.23667419,\n",
       " 0.15529655,\n",
       " 0.21689896,\n",
       " 0.20493267]"
      ]
     },
     "execution_count": 122,
     "metadata": {},
     "output_type": "execute_result"
    }
   ],
   "source": [
    "cls_score_list"
   ]
  },
  {
   "cell_type": "code",
   "execution_count": 121,
   "id": "white-memorabilia",
   "metadata": {},
   "outputs": [
    {
     "data": {
      "text/plain": [
       "array([10,  1,  3,  8,  9,  0,  5,  7,  2,  6,  4])"
      ]
     },
     "execution_count": 121,
     "metadata": {},
     "output_type": "execute_result"
    }
   ],
   "source": [
    "cls_sort.argsort()"
   ]
  },
  {
   "cell_type": "code",
   "execution_count": 123,
   "id": "entitled-kingdom",
   "metadata": {},
   "outputs": [
    {
     "data": {
      "text/plain": [
       "array([ 5,  1,  8,  2, 10,  6,  9,  7,  3,  4,  0])"
      ]
     },
     "execution_count": 123,
     "metadata": {},
     "output_type": "execute_result"
    }
   ],
   "source": [
    "cls_sort.argsort().argsort()"
   ]
  },
  {
   "cell_type": "code",
   "execution_count": 124,
   "id": "charitable-funeral",
   "metadata": {},
   "outputs": [
    {
     "data": {
      "text/plain": [
       "array([10,  1,  3,  8,  9,  0,  5,  7,  2,  6,  4])"
      ]
     },
     "execution_count": 124,
     "metadata": {},
     "output_type": "execute_result"
    }
   ],
   "source": [
    "cls_sort.argsort().argsort().argsort()"
   ]
  },
  {
   "cell_type": "code",
   "execution_count": 114,
   "id": "compound-salmon",
   "metadata": {},
   "outputs": [
    {
     "data": {
      "text/plain": [
       "[757717600000.0,\n",
       " 188202800000.0,\n",
       " 137757930000.0,\n",
       " 177554420000.0,\n",
       " 223814990000000.0,\n",
       " 28815011000000.0,\n",
       " 121507410000.0,\n",
       " 5206625500000.0,\n",
       " 54316253000.0,\n",
       " 25104515000.0,\n",
       " 79928750000000.0]"
      ]
     },
     "execution_count": 114,
     "metadata": {},
     "output_type": "execute_result"
    }
   ],
   "source": [
    "box_score_list"
   ]
  },
  {
   "cell_type": "code",
   "execution_count": null,
   "id": "choice-month",
   "metadata": {},
   "outputs": [],
   "source": []
  },
  {
   "cell_type": "code",
   "execution_count": 107,
   "id": "silent-indiana",
   "metadata": {},
   "outputs": [
    {
     "data": {
      "text/plain": [
       "3.4716692"
      ]
     },
     "execution_count": 107,
     "metadata": {},
     "output_type": "execute_result"
    }
   ],
   "source": [
    "(-cls_score_list*np.log(cls_score_list)).sum()"
   ]
  },
  {
   "cell_type": "code",
   "execution_count": 125,
   "id": "imperial-event",
   "metadata": {},
   "outputs": [],
   "source": [
    "cls_score_rank = np.array(cls_score_list).argsort().argsort()"
   ]
  },
  {
   "cell_type": "code",
   "execution_count": 126,
   "id": "extended-presentation",
   "metadata": {},
   "outputs": [],
   "source": [
    "box_score_rank = (-np.array(box_score_list)).argsort().argsort()"
   ]
  },
  {
   "cell_type": "code",
   "execution_count": 130,
   "id": "removed-recommendation",
   "metadata": {},
   "outputs": [],
   "source": [
    "total_sort = np.argsort(cls_score_rank + box_score_rank)"
   ]
  },
  {
   "cell_type": "code",
   "execution_count": 131,
   "id": "optimum-supplement",
   "metadata": {},
   "outputs": [
    {
     "name": "stdout",
     "output_type": "stream",
     "text": [
      "[0.27794713, 0.13429637, 0.16547583, 0.24252155, 0.25121427, 0.10372658, 0.21627478, 0.23667419, 0.15529655, 0.21689896, 0.20493267]\n",
      "[1759573600000.0, 174372500000.0, 1790520200.0, 563659400000.0, 300968420000000.0, 25916747000000.0, 71347390000.0, 6429390400000.0, 61955970000.0, 17331331000.0, 53910260000000.0]\n",
      "[14  7 13 13  9  2 12 10 10 15  5]\n"
     ]
    }
   ],
   "source": [
    "print(cls_score_list)\n",
    "print(box_score_list)\n",
    "print(cls_score_rank + box_score_rank)"
   ]
  },
  {
   "cell_type": "code",
   "execution_count": 103,
   "id": "emerging-magic",
   "metadata": {},
   "outputs": [],
   "source": [
    "step=3"
   ]
  },
  {
   "cell_type": "code",
   "execution_count": 104,
   "id": "coupled-chest",
   "metadata": {},
   "outputs": [
    {
     "data": {
      "text/plain": [
       "array([10,  5,  0])"
      ]
     },
     "execution_count": 104,
     "metadata": {},
     "output_type": "execute_result"
    }
   ],
   "source": [
    "total_sort[:step]"
   ]
  },
  {
   "cell_type": "code",
   "execution_count": 99,
   "id": "narrative-killer",
   "metadata": {},
   "outputs": [
    {
     "data": {
      "text/plain": [
       "array([ 5,  1,  8,  2, 10,  6,  9,  3,  7,  4,  0])"
      ]
     },
     "execution_count": 99,
     "metadata": {},
     "output_type": "execute_result"
    }
   ],
   "source": [
    "cls_sort"
   ]
  },
  {
   "cell_type": "code",
   "execution_count": 98,
   "id": "moderate-cigarette",
   "metadata": {},
   "outputs": [
    {
     "data": {
      "text/plain": [
       "array([ 4, 10,  5,  7,  0,  1,  3,  8,  6,  9,  2])"
      ]
     },
     "execution_count": 98,
     "metadata": {},
     "output_type": "execute_result"
    }
   ],
   "source": [
    "box_sort"
   ]
  },
  {
   "cell_type": "code",
   "execution_count": 85,
   "id": "fleet-detection",
   "metadata": {},
   "outputs": [],
   "source": [
    "cls_score_list = np.array(cls_score_list)"
   ]
  },
  {
   "cell_type": "code",
   "execution_count": 89,
   "id": "intended-atmosphere",
   "metadata": {},
   "outputs": [
    {
     "data": {
      "text/plain": [
       "array([ 0,  4,  7,  3,  9,  6, 10,  2,  8,  1,  5])"
      ]
     },
     "execution_count": 89,
     "metadata": {},
     "output_type": "execute_result"
    }
   ],
   "source": [
    "np.argsort(-cls_score_list)"
   ]
  },
  {
   "cell_type": "code",
   "execution_count": 87,
   "id": "egyptian-intelligence",
   "metadata": {},
   "outputs": [
    {
     "data": {
      "text/plain": [
       "array([ 2,  9,  6,  8,  3,  1,  0,  7,  5, 10,  4])"
      ]
     },
     "execution_count": 87,
     "metadata": {},
     "output_type": "execute_result"
    }
   ],
   "source": [
    "np.argsort(norm)"
   ]
  },
  {
   "cell_type": "code",
   "execution_count": 90,
   "id": "alone-rhythm",
   "metadata": {},
   "outputs": [
    {
     "data": {
      "text/plain": [
       "array([ 0,  5,  7, 10,  6,  3,  9,  4,  1,  2,  8])"
      ]
     },
     "execution_count": 90,
     "metadata": {},
     "output_type": "execute_result"
    }
   ],
   "source": [
    "np.argsort(np.argsort(-cls_score_list)+np.argsort(norm))"
   ]
  },
  {
   "cell_type": "code",
   "execution_count": 54,
   "id": "nervous-metropolitan",
   "metadata": {},
   "outputs": [],
   "source": [
    "results = outputs\n",
    "\n",
    "cls_preds = results.pred_cls_probs.cpu().numpy()\n",
    "predicted_boxes = results.pred_boxes.tensor.cpu().numpy()\n",
    "predicted_covar_mats = results.pred_boxes_covariance.cpu().numpy()\n",
    "\n",
    "box_score = np.array([mat.diagonal().prod() for mat in predicted_covar_mats]).mean()\n",
    "cls_score = cls_preds.max(axis=1).mean()"
   ]
  },
  {
   "cell_type": "code",
   "execution_count": 26,
   "id": "collect-airline",
   "metadata": {},
   "outputs": [
    {
     "data": {
      "text/plain": [
       "(4,)"
      ]
     },
     "execution_count": 26,
     "metadata": {},
     "output_type": "execute_result"
    }
   ],
   "source": [
    "predicted_boxes[0].shape"
   ]
  },
  {
   "cell_type": "code",
   "execution_count": 55,
   "id": "liked-spray",
   "metadata": {},
   "outputs": [
    {
     "data": {
      "text/plain": [
       "array([[0.9514904 , 0.01849801, 0.05607532, 0.05667713, 0.0051091 ,\n",
       "        0.00721828, 0.01677718],\n",
       "       [0.9232524 , 0.03924947, 0.06935471, 0.05374594, 0.01577606,\n",
       "        0.02107754, 0.03311143],\n",
       "       [0.92191714, 0.0115991 , 0.02670465, 0.04891825, 0.00488035,\n",
       "        0.00895986, 0.02172219],\n",
       "       [0.89119476, 0.01955939, 0.03910834, 0.03826052, 0.01360259,\n",
       "        0.01586567, 0.03685952],\n",
       "       [0.8830716 , 0.02215327, 0.04523037, 0.0299987 , 0.01517591,\n",
       "        0.02532225, 0.06861553],\n",
       "       [0.870052  , 0.02633451, 0.04346598, 0.03136223, 0.01143321,\n",
       "        0.01095212, 0.02682063],\n",
       "       [0.8248973 , 0.01407167, 0.04847713, 0.04400839, 0.01332223,\n",
       "        0.02010958, 0.05683623],\n",
       "       [0.815567  , 0.01300281, 0.04869989, 0.0770672 , 0.01309281,\n",
       "        0.04011224, 0.07494085],\n",
       "       [0.81320095, 0.0286712 , 0.06175374, 0.03810425, 0.01602989,\n",
       "        0.01672141, 0.02791771],\n",
       "       [0.8129124 , 0.05066876, 0.13602476, 0.06443601, 0.00952293,\n",
       "        0.0219253 , 0.02350516],\n",
       "       [0.80886   , 0.01578937, 0.03262226, 0.04960405, 0.01639415,\n",
       "        0.01701725, 0.03652191],\n",
       "       [0.77521163, 0.01434493, 0.03232639, 0.05583723, 0.03024268,\n",
       "        0.01721605, 0.03830642],\n",
       "       [0.69447565, 0.09046649, 0.17533131, 0.05029798, 0.01319114,\n",
       "        0.02577267, 0.05166508],\n",
       "       [0.59073365, 0.04876104, 0.08950997, 0.13082722, 0.05684825,\n",
       "        0.04220269, 0.05276641],\n",
       "       [0.50749236, 0.01866734, 0.04408053, 0.015913  , 0.00805139,\n",
       "        0.01454366, 0.02440088],\n",
       "       [0.49180537, 0.05805327, 0.08068796, 0.02530765, 0.01457413,\n",
       "        0.01362229, 0.01934998],\n",
       "       [0.12017345, 0.01520907, 0.06115583, 0.4530619 , 0.14921951,\n",
       "        0.07688542, 0.06664554],\n",
       "       [0.44125104, 0.17254306, 0.16547874, 0.02571934, 0.0195386 ,\n",
       "        0.0160095 , 0.02330752],\n",
       "       [0.4229238 , 0.03874631, 0.06015624, 0.07287019, 0.03291307,\n",
       "        0.02609042, 0.02902236],\n",
       "       [0.4117765 , 0.03470025, 0.06673138, 0.11055299, 0.04706316,\n",
       "        0.0319553 , 0.04067285],\n",
       "       [0.40858513, 0.05961447, 0.0976812 , 0.1096608 , 0.04437497,\n",
       "        0.02286275, 0.02813926],\n",
       "       [0.35378405, 0.0563263 , 0.09365101, 0.11733502, 0.04380497,\n",
       "        0.02257681, 0.02934921],\n",
       "       [0.34403086, 0.01179432, 0.0195288 , 0.03546583, 0.01304123,\n",
       "        0.01482844, 0.02414377],\n",
       "       [0.33916226, 0.1110028 , 0.11703748, 0.03280306, 0.02081483,\n",
       "        0.01560633, 0.02002684],\n",
       "       [0.30780837, 0.0335852 , 0.04847704, 0.05240818, 0.02096057,\n",
       "        0.01866262, 0.02347716],\n",
       "       [0.30204326, 0.01171321, 0.03350562, 0.04693092, 0.01344695,\n",
       "        0.04226885, 0.04746997],\n",
       "       [0.29606   , 0.04893032, 0.07845812, 0.0775959 , 0.03513246,\n",
       "        0.01739715, 0.02373694],\n",
       "       [0.02480516, 0.00373031, 0.01082819, 0.28628227, 0.04364433,\n",
       "        0.01856122, 0.02162421],\n",
       "       [0.03644187, 0.00569619, 0.0122228 , 0.28322682, 0.02105067,\n",
       "        0.01492953, 0.01388748],\n",
       "       [0.27005008, 0.0135919 , 0.02628343, 0.07778179, 0.02708163,\n",
       "        0.03781824, 0.04653272],\n",
       "       [0.26971042, 0.04180145, 0.05147484, 0.03487036, 0.02022479,\n",
       "        0.01334563, 0.01786424],\n",
       "       [0.10636248, 0.01415814, 0.0406673 , 0.260329  , 0.09035926,\n",
       "        0.04760807, 0.04173536],\n",
       "       [0.24800633, 0.03922504, 0.04732222, 0.03915708, 0.02099734,\n",
       "        0.01356413, 0.01678261],\n",
       "       [0.24103594, 0.07544099, 0.10433861, 0.04812542, 0.03325803,\n",
       "        0.01222103, 0.01487875],\n",
       "       [0.23950827, 0.05610522, 0.06048004, 0.0377968 , 0.01978755,\n",
       "        0.01394647, 0.01742365],\n",
       "       [0.2296642 , 0.03092377, 0.0407877 , 0.04409172, 0.02179447,\n",
       "        0.01565248, 0.01917142],\n",
       "       [0.10432649, 0.01557221, 0.03069211, 0.22665642, 0.02288045,\n",
       "        0.01535609, 0.01637621],\n",
       "       [0.22636071, 0.03342063, 0.05354366, 0.08971184, 0.04277569,\n",
       "        0.01894494, 0.02342932],\n",
       "       [0.21685438, 0.01770434, 0.03461609, 0.04062858, 0.0159856 ,\n",
       "        0.01495487, 0.02566557],\n",
       "       [0.20248018, 0.11776213, 0.12322592, 0.00974228, 0.01057991,\n",
       "        0.01012259, 0.01119583],\n",
       "       [0.0303334 , 0.0053516 , 0.00951874, 0.19498096, 0.03962473,\n",
       "        0.01762897, 0.01732351],\n",
       "       [0.01660255, 0.00369852, 0.00919558, 0.19125111, 0.03459526,\n",
       "        0.01398471, 0.01348788],\n",
       "       [0.18951294, 0.0241824 , 0.03003211, 0.03662312, 0.01623169,\n",
       "        0.01263509, 0.014593  ],\n",
       "       [0.18223882, 0.015484  , 0.02091628, 0.03217545, 0.01337392,\n",
       "        0.01501578, 0.01525004],\n",
       "       [0.18046384, 0.023394  , 0.03634664, 0.07238051, 0.03196033,\n",
       "        0.02406916, 0.02481281],\n",
       "       [0.02495933, 0.00537724, 0.00971483, 0.17863756, 0.03020075,\n",
       "        0.01760731, 0.01560848],\n",
       "       [0.17813516, 0.02138816, 0.0273913 , 0.01836831, 0.00903675,\n",
       "        0.01110196, 0.01290788],\n",
       "       [0.17662005, 0.03330739, 0.05268524, 0.07889771, 0.03105316,\n",
       "        0.01481509, 0.01714299],\n",
       "       [0.17539997, 0.01855068, 0.03647363, 0.12352931, 0.04469578,\n",
       "        0.03232177, 0.03287818],\n",
       "       [0.1740193 , 0.0142645 , 0.02968947, 0.03307334, 0.01324259,\n",
       "        0.02223   , 0.02937705],\n",
       "       [0.02445829, 0.01252563, 0.02759418, 0.1659687 , 0.02397379,\n",
       "        0.01037849, 0.00714579],\n",
       "       [0.16589613, 0.02972119, 0.05100697, 0.11809228, 0.05358482,\n",
       "        0.02646839, 0.02738323],\n",
       "       [0.15962568, 0.01642357, 0.02429616, 0.05822733, 0.0198832 ,\n",
       "        0.01890498, 0.02096008],\n",
       "       [0.0618389 , 0.01751728, 0.05483604, 0.15757553, 0.05606957,\n",
       "        0.0209286 , 0.0250726 ],\n",
       "       [0.15658474, 0.02020921, 0.03189177, 0.05358328, 0.02549571,\n",
       "        0.02505986, 0.02350248],\n",
       "       [0.15624736, 0.01902396, 0.04024685, 0.11543337, 0.04813129,\n",
       "        0.04002583, 0.03417859],\n",
       "       [0.03738142, 0.00833777, 0.01507165, 0.14929207, 0.02465893,\n",
       "        0.01397699, 0.01563208],\n",
       "       [0.14630942, 0.01273466, 0.02149731, 0.02572005, 0.01404501,\n",
       "        0.01567574, 0.0145042 ],\n",
       "       [0.03048162, 0.00433283, 0.00886654, 0.1425082 , 0.02372015,\n",
       "        0.02646507, 0.02288761],\n",
       "       [0.14196514, 0.01550198, 0.03756677, 0.09141232, 0.03334975,\n",
       "        0.04233859, 0.04952527],\n",
       "       [0.13636878, 0.03869729, 0.05097128, 0.02050172, 0.01427598,\n",
       "        0.00896456, 0.01215172],\n",
       "       [0.1355774 , 0.02218569, 0.03143683, 0.01919193, 0.01267563,\n",
       "        0.01271591, 0.01754605],\n",
       "       [0.12341988, 0.02313009, 0.04212444, 0.01783029, 0.00836948,\n",
       "        0.01860486, 0.01700907],\n",
       "       [0.02873859, 0.00813123, 0.01300783, 0.09820169, 0.0193496 ,\n",
       "        0.01225731, 0.0112961 ],\n",
       "       [0.0863961 , 0.02637425, 0.04155515, 0.03176825, 0.01989493,\n",
       "        0.01997859, 0.01475845],\n",
       "       [0.05410483, 0.01216514, 0.02239537, 0.08367904, 0.04254435,\n",
       "        0.02084193, 0.02112803],\n",
       "       [0.08306127, 0.02413538, 0.03718869, 0.03468369, 0.01682322,\n",
       "        0.01484028, 0.01449523],\n",
       "       [0.07540949, 0.02428136, 0.03873691, 0.03379677, 0.01603296,\n",
       "        0.01485955, 0.02043266],\n",
       "       [0.02368864, 0.007442  , 0.01356959, 0.07488375, 0.01343951,\n",
       "        0.01207569, 0.01146403],\n",
       "       [0.04236861, 0.00986693, 0.01630675, 0.07463504, 0.03796959,\n",
       "        0.01789577, 0.01582346],\n",
       "       [0.06947481, 0.0454374 , 0.07308651, 0.02229803, 0.01342319,\n",
       "        0.01629665, 0.01821287],\n",
       "       [0.04155895, 0.01085135, 0.01938034, 0.07187654, 0.02380225,\n",
       "        0.01690107, 0.01442217],\n",
       "       [0.03446909, 0.01024185, 0.01735199, 0.07116739, 0.03584253,\n",
       "        0.0193786 , 0.01754817],\n",
       "       [0.03555446, 0.01165069, 0.01820323, 0.07067328, 0.02891102,\n",
       "        0.01999896, 0.02002627],\n",
       "       [0.06839184, 0.01102998, 0.01512097, 0.02113557, 0.02151171,\n",
       "        0.01472596, 0.01865081],\n",
       "       [0.06131245, 0.04958869, 0.06590837, 0.01939548, 0.01326196,\n",
       "        0.0129848 , 0.0117997 ],\n",
       "       [0.06522693, 0.00859325, 0.01271544, 0.01326173, 0.00610859,\n",
       "        0.00526548, 0.00666401],\n",
       "       [0.06395777, 0.0411775 , 0.05728684, 0.01958441, 0.01081601,\n",
       "        0.01252933, 0.01157433],\n",
       "       [0.06140267, 0.00631326, 0.00963666, 0.03302186, 0.01379535,\n",
       "        0.01938194, 0.02895425],\n",
       "       [0.03291872, 0.00662497, 0.01521623, 0.05978251, 0.02401591,\n",
       "        0.01213798, 0.01552059],\n",
       "       [0.02059052, 0.00709014, 0.00995455, 0.05909413, 0.01123601,\n",
       "        0.00888452, 0.00797129],\n",
       "       [0.05785553, 0.01662775, 0.01703644, 0.0109323 , 0.00650174,\n",
       "        0.00641309, 0.00566765],\n",
       "       [0.05388791, 0.02097851, 0.02681137, 0.05168048, 0.02997464,\n",
       "        0.02135892, 0.01970419],\n",
       "       [0.05379548, 0.00954851, 0.01174939, 0.00962741, 0.0079318 ,\n",
       "        0.00630647, 0.00643098],\n",
       "       [0.01937737, 0.00558934, 0.01180405, 0.05352343, 0.01527681,\n",
       "        0.00994833, 0.00986098],\n",
       "       [0.05151436, 0.01719354, 0.02224514, 0.01700848, 0.00907669,\n",
       "        0.01115149, 0.00996169],\n",
       "       [0.01622355, 0.00748216, 0.01270317, 0.03201447, 0.05069412,\n",
       "        0.0158381 , 0.01577992]], dtype=float32)"
      ]
     },
     "execution_count": 55,
     "metadata": {},
     "output_type": "execute_result"
    }
   ],
   "source": [
    "cls_preds"
   ]
  },
  {
   "cell_type": "code",
   "execution_count": 45,
   "id": "competent-workstation",
   "metadata": {},
   "outputs": [
    {
     "data": {
      "text/plain": [
       "array([[ 5.56829   , -0.01457549,  1.4243178 ,  0.02851192],\n",
       "       [-0.01457549,  3.0298598 ,  0.01219342,  0.80456716],\n",
       "       [ 1.4243178 ,  0.01219342,  5.6584744 ,  0.01624925],\n",
       "       [ 0.02851192,  0.80456716,  0.01624925,  3.0154514 ]],\n",
       "      dtype=float32)"
      ]
     },
     "execution_count": 45,
     "metadata": {},
     "output_type": "execute_result"
    }
   ],
   "source": [
    "predicted_covar_mats[0]"
   ]
  },
  {
   "cell_type": "code",
   "execution_count": 27,
   "id": "protected-yukon",
   "metadata": {},
   "outputs": [
    {
     "data": {
      "text/plain": [
       "(4, 4)"
      ]
     },
     "execution_count": 27,
     "metadata": {},
     "output_type": "execute_result"
    }
   ],
   "source": [
    "predicted_covar_mats[0].shape"
   ]
  },
  {
   "cell_type": "code",
   "execution_count": 24,
   "id": "collective-fluid",
   "metadata": {},
   "outputs": [
    {
     "data": {
      "text/plain": [
       "287.8698"
      ]
     },
     "execution_count": 24,
     "metadata": {},
     "output_type": "execute_result"
    }
   ],
   "source": [
    "predicted_covar_mats[0].diagonal().prod()"
   ]
  },
  {
   "cell_type": "code",
   "execution_count": 66,
   "id": "conscious-uruguay",
   "metadata": {},
   "outputs": [
    {
     "data": {
      "text/plain": [
       "0.29015502"
      ]
     },
     "execution_count": 66,
     "metadata": {},
     "output_type": "execute_result"
    }
   ],
   "source": [
    "cls_preds.max(axis=1).mean()"
   ]
  },
  {
   "cell_type": "code",
   "execution_count": 60,
   "id": "simplified-worship",
   "metadata": {},
   "outputs": [
    {
     "name": "stdout",
     "output_type": "stream",
     "text": [
      "0.9514904\n",
      "0.9232524\n",
      "0.92191714\n",
      "0.89119476\n",
      "0.8830716\n",
      "0.870052\n",
      "0.8248973\n",
      "0.815567\n",
      "0.81320095\n",
      "0.8129124\n",
      "0.80886\n",
      "0.77521163\n",
      "0.69447565\n",
      "0.59073365\n",
      "0.50749236\n",
      "0.49180537\n",
      "0.4530619\n",
      "0.44125104\n",
      "0.4229238\n",
      "0.4117765\n",
      "0.40858513\n",
      "0.35378405\n",
      "0.34403086\n",
      "0.33916226\n",
      "0.30780837\n",
      "0.30204326\n",
      "0.29606\n",
      "0.28628227\n",
      "0.28322682\n",
      "0.27005008\n",
      "0.26971042\n",
      "0.260329\n",
      "0.24800633\n",
      "0.24103594\n",
      "0.23950827\n",
      "0.2296642\n",
      "0.22665642\n",
      "0.22636071\n",
      "0.21685438\n",
      "0.20248018\n",
      "0.19498096\n",
      "0.19125111\n",
      "0.18951294\n",
      "0.18223882\n",
      "0.18046384\n",
      "0.17863756\n",
      "0.17813516\n",
      "0.17662005\n",
      "0.17539997\n",
      "0.1740193\n",
      "0.1659687\n",
      "0.16589613\n",
      "0.15962568\n",
      "0.15757553\n",
      "0.15658474\n",
      "0.15624736\n",
      "0.14929207\n",
      "0.14630942\n",
      "0.1425082\n",
      "0.14196514\n",
      "0.13636878\n",
      "0.1355774\n",
      "0.12341988\n",
      "0.09820169\n",
      "0.0863961\n",
      "0.083679035\n",
      "0.08306127\n",
      "0.075409494\n",
      "0.07488375\n",
      "0.074635044\n",
      "0.07308651\n",
      "0.07187654\n",
      "0.07116739\n",
      "0.07067328\n",
      "0.06839184\n",
      "0.06590837\n",
      "0.06522693\n",
      "0.06395777\n",
      "0.061402667\n",
      "0.059782505\n",
      "0.059094127\n",
      "0.057855528\n",
      "0.053887915\n",
      "0.053795476\n",
      "0.053523432\n",
      "0.051514357\n",
      "0.050694115\n"
     ]
    }
   ],
   "source": [
    "for mat in cls_preds:\n",
    "    print(mat.max())"
   ]
  },
  {
   "cell_type": "code",
   "execution_count": 62,
   "id": "actual-classic",
   "metadata": {},
   "outputs": [],
   "source": [
    "def correlation_from_covariance(covariance):\n",
    "    v = np.sqrt(np.diag(covariance))\n",
    "    outer_v = np.outer(v, v)\n",
    "    correlation = covariance / outer_v\n",
    "    correlation[covariance == 0] = 0\n",
    "    return correlation"
   ]
  },
  {
   "cell_type": "code",
   "execution_count": 64,
   "id": "clear-alfred",
   "metadata": {},
   "outputs": [
    {
     "name": "stdout",
     "output_type": "stream",
     "text": [
      "287.8698\n",
      "9.45183\n",
      "929.9821\n",
      "226.54271\n",
      "2774.8628\n",
      "111.6626\n",
      "1368.9465\n",
      "173.05153\n",
      "255.85495\n",
      "87310.38\n",
      "386.8067\n",
      "1105.3667\n",
      "4284.7305\n",
      "56834030.0\n",
      "62451600000.0\n",
      "3398949.8\n",
      "28475788.0\n",
      "58315216.0\n",
      "184771790.0\n",
      "110986140.0\n",
      "1979667.2\n",
      "20779422.0\n",
      "1286523400.0\n",
      "65738650.0\n",
      "55346990.0\n",
      "76672340.0\n",
      "220722690.0\n",
      "920491.56\n",
      "11903610.0\n",
      "175951600.0\n",
      "116654830.0\n",
      "2549750.5\n",
      "342720420.0\n",
      "860921540.0\n",
      "245255540.0\n",
      "187860000.0\n",
      "4998993.5\n",
      "679783800.0\n",
      "43780508.0\n",
      "457226.2\n",
      "987850750.0\n",
      "168627730.0\n",
      "304424500.0\n",
      "80069390.0\n",
      "606926850.0\n",
      "414725700.0\n",
      "65004716.0\n",
      "593403900.0\n",
      "156146450.0\n",
      "805560.0\n",
      "7374736.5\n",
      "734853000.0\n",
      "141763540.0\n",
      "182407860.0\n",
      "180282610.0\n",
      "541565400.0\n",
      "5137318400.0\n",
      "64569384.0\n",
      "812142900.0\n",
      "250753200.0\n",
      "278911940.0\n",
      "14129849000.0\n",
      "556604100000.0\n",
      "32075647000.0\n",
      "8409044000000.0\n",
      "156451770000.0\n",
      "10702015000000.0\n",
      "3749178200000.0\n",
      "637937300.0\n",
      "456493040000.0\n",
      "100858950000000.0\n",
      "56943096000.0\n",
      "255043500000.0\n",
      "170220650000.0\n",
      "263956610000.0\n",
      "685287200000.0\n",
      "5251395600.0\n",
      "1003056400000.0\n",
      "13581854000.0\n",
      "14627200000.0\n",
      "23695426000.0\n",
      "45550940000.0\n",
      "93554790000.0\n",
      "876781600000.0\n",
      "19040790000.0\n",
      "222109430000.0\n",
      "156987740000.0\n"
     ]
    }
   ],
   "source": [
    "for mat in predicted_covar_mats:\n",
    "    print(mat.diagonal().prod())\n",
    "    #print(correlation_from_covariance(mat))"
   ]
  },
  {
   "cell_type": "code",
   "execution_count": 40,
   "id": "internal-university",
   "metadata": {},
   "outputs": [],
   "source": [
    "def mult_diag(x):\n",
    "    print(x)\n",
    "    return x.diagonal().prod()"
   ]
  },
  {
   "cell_type": "code",
   "execution_count": 74,
   "id": "colored-stewart",
   "metadata": {},
   "outputs": [
    {
     "data": {
      "text/plain": [
       "1481842400000.0"
      ]
     },
     "execution_count": 74,
     "metadata": {},
     "output_type": "execute_result"
    }
   ],
   "source": [
    "np.array([mat.diagonal().prod() for mat in predicted_covar_mats]).mean()"
   ]
  },
  {
   "cell_type": "code",
   "execution_count": null,
   "id": "dangerous-destiny",
   "metadata": {},
   "outputs": [],
   "source": [
    "np.apply_over_axes"
   ]
  }
 ],
 "metadata": {
  "kernelspec": {
   "display_name": "Python 3",
   "language": "python",
   "name": "python3"
  },
  "language_info": {
   "codemirror_mode": {
    "name": "ipython",
    "version": 3
   },
   "file_extension": ".py",
   "mimetype": "text/x-python",
   "name": "python",
   "nbconvert_exporter": "python",
   "pygments_lexer": "ipython3",
   "version": "3.8.5"
  }
 },
 "nbformat": 4,
 "nbformat_minor": 5
}
